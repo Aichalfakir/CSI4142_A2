{
  "nbformat": 4,
  "nbformat_minor": 0,
  "metadata": {
    "colab": {
      "provenance": []
    },
    "kernelspec": {
      "name": "python3",
      "display_name": "Python 3"
    },
    "language_info": {
      "name": "python"
    }
  },
  "cells": [
    {
      "cell_type": "markdown",
      "source": [
        "# CSI 4142: fundamentals of data science\n",
        "\n",
        "\n",
        "ASSIGNMENT 2: DATA CLEANING"
      ],
      "metadata": {
        "id": "9l0vRA5ce21x"
      }
    },
    {
      "cell_type": "markdown",
      "source": [
        "# 1. GROUP INFORMATIONS\n",
        "\n",
        "**GROUP NUMBER:28**\n",
        "\n",
        "STUDENT 1:EXAUCEE MBUYI\n",
        "\n",
        "STUDENT NUMBER:300268093\n",
        "\n",
        "STUDENT 2: AICHA LFAKIR\n",
        "\n",
        "STUDENT NUMBER: 300230858\n",
        "\n",
        "link of notebook: https://colab.research.google.com/drive/1LA4wf7hZN_O2oKYVerjgkgcgA6vdqTjY?usp=sharing"
      ],
      "metadata": {
        "id": "hRqdrjT_fSVK"
      }
    },
    {
      "cell_type": "markdown",
      "source": [
        "# 2. INTRODUCTION (FOR DATASET 2)\n",
        "\n",
        "\n",
        "\n",
        "* **GOAL OF THE ANALYSIS**\n",
        "\n",
        "This analysis aims to analyze the Credit Score Classification Dataset by examining key financial attributes like annual income, payment behavior, credit history, loan details, and credit utilization ratio. The goal is to identify trends impacting an individual's credit score classification and contribute to a more data-driven credit evaluation process.\n",
        "*   **AUDIENCE**\n",
        "\n",
        "This analysis is intended for:\n",
        "\n",
        "* Financial Institutions & Banks : To enhance credit risk assessment, automate credit score classification, and optimize lending decisions.\n",
        "* Loan Officers & Credit Analysts : To gain deeper insights into the factors influencing credit scores and improve the accuracy of credit evaluations.\n",
        "* Data Scientists & Machine Learning Engineers : To apply data-driven techniques for handling missing values, improving dataset quality, and building predictive models for credit scoring.\n"
      ],
      "metadata": {
        "id": "jYye1tPZgGxc"
      }
    },
    {
      "cell_type": "markdown",
      "source": [
        "# 2.1 DATASETS IMPORTS AND LOADING"
      ],
      "metadata": {
        "id": "SIh9aHdWgg8Y"
      }
    },
    {
      "cell_type": "code",
      "source": [
        "# Importation des bibliothèques essentielles\n",
        "import pandas as pd\n",
        "import numpy as np\n",
        "import matplotlib.pyplot as plt\n",
        "import seaborn as sns\n",
        "import os\n",
        "import zipfile\n"
      ],
      "metadata": {
        "id": "oyX5Cgji0oND"
      },
      "execution_count": null,
      "outputs": []
    },
    {
      "cell_type": "code",
      "source": [
        "# URL brute du fichier ZIP sur GitHub\n",
        "url_zip = \"https://github.com/Aichalfakir/CSI4142_A2/raw/main/train.csv.zip\"\n",
        "\n",
        "# Télécharger le fichier ZIP\n",
        "os.system(f\"wget {url_zip} -O train.csv.zip\")\n",
        "\n",
        "# Extraire le fichier ZIP\n",
        "with zipfile.ZipFile(\"train.csv.zip\", \"r\") as zip_ref:\n",
        "    zip_ref.extractall(\"train_data\")  # Décompression dans un dossier\n",
        "# Charger le fichier CSV extrait\n",
        "file_name = \"train.csv\"  # Vérifie bien le nom du fichier\n",
        "df_credit_train = pd.read_csv(f\"train_data/{file_name}\", low_memory=False)\n",
        "\n",
        "# Afficher un aperçu des données\n",
        "print(df_credit_train.head())\n",
        "\n",
        "# Vérifier la structure du dataset\n",
        "print(f\"Number of rows: {df_credit_train.shape[0]}, Number of columns: {df_credit_train.shape[1]}\")\n",
        "df_credit_train.info()\n"
      ],
      "metadata": {
        "colab": {
          "base_uri": "https://localhost:8080/"
        },
        "id": "AFRSL1xr0qVO",
        "outputId": "e3841815-81d1-4703-de99-f9df13ce1066",
        "collapsed": true
      },
      "execution_count": null,
      "outputs": [
        {
          "output_type": "stream",
          "name": "stdout",
          "text": [
            "       ID Customer_ID     Month           Name   Age          SSN Occupation  \\\n",
            "0  0x1602   CUS_0xd40   January  Aaron Maashoh    23  821-00-0265  Scientist   \n",
            "1  0x1603   CUS_0xd40  February  Aaron Maashoh    23  821-00-0265  Scientist   \n",
            "2  0x1604   CUS_0xd40     March  Aaron Maashoh  -500  821-00-0265  Scientist   \n",
            "3  0x1605   CUS_0xd40     April  Aaron Maashoh    23  821-00-0265  Scientist   \n",
            "4  0x1606   CUS_0xd40       May  Aaron Maashoh    23  821-00-0265  Scientist   \n",
            "\n",
            "  Annual_Income  Monthly_Inhand_Salary  Num_Bank_Accounts  ...  Credit_Mix  \\\n",
            "0      19114.12            1824.843333                  3  ...           _   \n",
            "1      19114.12                    NaN                  3  ...        Good   \n",
            "2      19114.12                    NaN                  3  ...        Good   \n",
            "3      19114.12                    NaN                  3  ...        Good   \n",
            "4      19114.12            1824.843333                  3  ...        Good   \n",
            "\n",
            "   Outstanding_Debt Credit_Utilization_Ratio     Credit_History_Age  \\\n",
            "0            809.98                26.822620  22 Years and 1 Months   \n",
            "1            809.98                31.944960                    NaN   \n",
            "2            809.98                28.609352  22 Years and 3 Months   \n",
            "3            809.98                31.377862  22 Years and 4 Months   \n",
            "4            809.98                24.797347  22 Years and 5 Months   \n",
            "\n",
            "   Payment_of_Min_Amount Total_EMI_per_month Amount_invested_monthly  \\\n",
            "0                     No           49.574949       80.41529543900253   \n",
            "1                     No           49.574949      118.28022162236736   \n",
            "2                     No           49.574949         81.699521264648   \n",
            "3                     No           49.574949       199.4580743910713   \n",
            "4                     No           49.574949      41.420153086217326   \n",
            "\n",
            "                  Payment_Behaviour     Monthly_Balance Credit_Score  \n",
            "0   High_spent_Small_value_payments  312.49408867943663         Good  \n",
            "1    Low_spent_Large_value_payments  284.62916249607184         Good  \n",
            "2   Low_spent_Medium_value_payments   331.2098628537912         Good  \n",
            "3    Low_spent_Small_value_payments  223.45130972736786         Good  \n",
            "4  High_spent_Medium_value_payments  341.48923103222177         Good  \n",
            "\n",
            "[5 rows x 28 columns]\n",
            "Nombre de lignes: 100000, Nombre de colonnes: 28\n",
            "<class 'pandas.core.frame.DataFrame'>\n",
            "RangeIndex: 100000 entries, 0 to 99999\n",
            "Data columns (total 28 columns):\n",
            " #   Column                    Non-Null Count   Dtype  \n",
            "---  ------                    --------------   -----  \n",
            " 0   ID                        100000 non-null  object \n",
            " 1   Customer_ID               100000 non-null  object \n",
            " 2   Month                     100000 non-null  object \n",
            " 3   Name                      90015 non-null   object \n",
            " 4   Age                       100000 non-null  object \n",
            " 5   SSN                       100000 non-null  object \n",
            " 6   Occupation                100000 non-null  object \n",
            " 7   Annual_Income             100000 non-null  object \n",
            " 8   Monthly_Inhand_Salary     84998 non-null   float64\n",
            " 9   Num_Bank_Accounts         100000 non-null  int64  \n",
            " 10  Num_Credit_Card           100000 non-null  int64  \n",
            " 11  Interest_Rate             100000 non-null  int64  \n",
            " 12  Num_of_Loan               100000 non-null  object \n",
            " 13  Type_of_Loan              88592 non-null   object \n",
            " 14  Delay_from_due_date       100000 non-null  int64  \n",
            " 15  Num_of_Delayed_Payment    92998 non-null   object \n",
            " 16  Changed_Credit_Limit      100000 non-null  object \n",
            " 17  Num_Credit_Inquiries      98035 non-null   float64\n",
            " 18  Credit_Mix                100000 non-null  object \n",
            " 19  Outstanding_Debt          100000 non-null  object \n",
            " 20  Credit_Utilization_Ratio  100000 non-null  float64\n",
            " 21  Credit_History_Age        90970 non-null   object \n",
            " 22  Payment_of_Min_Amount     100000 non-null  object \n",
            " 23  Total_EMI_per_month       100000 non-null  float64\n",
            " 24  Amount_invested_monthly   95521 non-null   object \n",
            " 25  Payment_Behaviour         100000 non-null  object \n",
            " 26  Monthly_Balance           98800 non-null   object \n",
            " 27  Credit_Score              100000 non-null  object \n",
            "dtypes: float64(4), int64(4), object(20)\n",
            "memory usage: 21.4+ MB\n"
          ]
        }
      ]
    },
    {
      "cell_type": "markdown",
      "source": [
        "# 2.2 MISSING VALUES"
      ],
      "metadata": {
        "id": "AnaSZYVXoRfz"
      }
    },
    {
      "cell_type": "code",
      "source": [
        "def display_missing_values(df, dataset_name):\n",
        "    \"\"\"\n",
        "    Analyse les valeurs manquantes dans un dataset.\n",
        "    \"\"\"\n",
        "    print(f\"\\nMissing Values Analysis for {dataset_name}:\")\n",
        "\n",
        "    def display_statistics(missing, label):\n",
        "        if (missing > 0).any():\n",
        "            print(f\"\\n{label} found in the dataset:\\n{missing[missing > 0]}\")\n",
        "        else:\n",
        "            print(f\"No {label.lower()} found.\")\n",
        "\n",
        "    # Vérification des chaînes vides \"\"\n",
        "    missing_empty = (df == '').sum()\n",
        "    display_statistics(missing_empty, \"Empty Strings\")\n",
        "\n",
        "    # Vérification des valeurs '?' (souvent utilisées comme placeholders)\n",
        "    missing_question_mark = (df == '?').sum()\n",
        "    display_statistics(missing_question_mark, \"Question Mark Values ('?')\")\n",
        "\n",
        "    # Vérification des NaN classiques\n",
        "    missing_NaN = df.isnull().sum()\n",
        "    display_statistics(missing_NaN, \"NaN Values\")\n",
        "\n",
        "# Appliquer la fonction au dataset Credit Score Train\n",
        "display_missing_values(df_credit_train, 'Credit Score Train Dataset')\n",
        "\n"
      ],
      "metadata": {
        "colab": {
          "base_uri": "https://localhost:8080/"
        },
        "id": "xXRos4usoXD9",
        "outputId": "18f03830-5512-4476-bb70-f63c368f1b4b"
      },
      "execution_count": null,
      "outputs": [
        {
          "output_type": "stream",
          "name": "stdout",
          "text": [
            "\n",
            "Missing Values Analysis for Credit Score Train Dataset:\n",
            "No empty strings found.\n",
            "No question mark values ('?') found.\n",
            "\n",
            "NaN Values found in the dataset:\n",
            "Name                        9985\n",
            "Monthly_Inhand_Salary      15002\n",
            "Type_of_Loan               11408\n",
            "Num_of_Delayed_Payment      7002\n",
            "Num_Credit_Inquiries        1965\n",
            "Credit_History_Age          9030\n",
            "Amount_invested_monthly     4479\n",
            "Monthly_Balance             1200\n",
            "dtype: int64\n"
          ]
        }
      ]
    },
    {
      "cell_type": "markdown",
      "source": [
        "# 2.3 REDUNDANCY"
      ],
      "metadata": {
        "id": "oG3gZccYopTu"
      }
    },
    {
      "cell_type": "code",
      "source": [
        "def check_duplicate_rows(df, dataset_name):\n",
        "    \"\"\"\n",
        "    Vérifie et affiche le nombre de lignes dupliquées dans un dataset.\n",
        "    \"\"\"\n",
        "    duplicate_rows = df[df.duplicated()]\n",
        "\n",
        "    if not duplicate_rows.empty:\n",
        "        print(f\"{dataset_name}: {len(duplicate_rows)} duplicate rows found.\")\n",
        "        print(\"Duplicate rows:\")\n",
        "        print(duplicate_rows.head())  # Afficher un aperçu des doublons\n",
        "    else:\n",
        "        print(f\"{dataset_name}: No duplicate rows found.\")\n",
        "\n",
        "# Appliquer la fonction au dataset Credit Score Train\n",
        "check_duplicate_rows(df_credit_train, 'Credit Score Train Dataset')\n"
      ],
      "metadata": {
        "colab": {
          "base_uri": "https://localhost:8080/"
        },
        "id": "RzTu9MS3ouk_",
        "outputId": "46a9e092-2b87-4006-e70e-27bbf75a27fb"
      },
      "execution_count": null,
      "outputs": [
        {
          "output_type": "stream",
          "name": "stdout",
          "text": [
            "Credit Score Train Dataset: No duplicate rows found.\n"
          ]
        }
      ]
    },
    {
      "cell_type": "markdown",
      "source": [
        "# 3. DATASETS DESCRIPTIONS"
      ],
      "metadata": {
        "id": "LbkJmLCMhsa8"
      }
    },
    {
      "cell_type": "markdown",
      "source": [
        "DATASET 2:\n",
        "\n",
        "\n",
        "*   **NAME**: Credit score classification\n",
        "*   **AUTHOR**: Paris Rohan\n",
        "*   **PURPOSE**: The purpose of this dataset analysis is to:\n",
        "\n",
        "1. Identify missing data and ensure data quality.\n",
        "2. Examine financial and behavioral factors influencing credit scores.\n",
        "3. Analyze patterns in loan payments, credit utilization, and outstanding debts.\n",
        "4. Explore trends in delayed payments and credit history age.\n",
        "5. Provide insights that can be used for credit risk assessment and predictive modeling for financial institutions.\n",
        "\n",
        "*   **SHAPE:** this dataset contains 100000 rows and 28 columns.\n",
        "*   **LIST OF FEATURES**:\n",
        "\n",
        "| Column Name              | Description | Data Type |\n",
        "|-------------------------|----------------------------------------------|--------------------------|\n",
        "| ID                      | Unique identifier for each customer | Categorical (Nominal) |\n",
        "| Customer_ID             | Unique customer identification number | Categorical (Nominal) |\n",
        "| Month                   | Month of data recording | Categorical (Ordinal) |\n",
        "| Name                    | Customer's name | Categorical (Nominal) |\n",
        "| Age                     | Age of the customer | Numerical (Discrete) |\n",
        "| SSN                     | Social Security Number (hashed) | Categorical (Nominal) |\n",
        "| Occupation              | Customer's job type | Categorical (Nominal) |\n",
        "| Annual_Income           | Annual salary of the customer | Numerical (Continuous) |\n",
        "| Monthly_Inhand_Salary   | Net monthly salary received | Numerical (Continuous) |\n",
        "| Num_Bank_Accounts       | Number of active bank accounts | Numerical (Discrete) |\n",
        "| Num_Credit_Card         | Number of credit cards held | Numerical (Discrete) |\n",
        "| Interest_Rate           | Interest rate on loans | Numerical (Continuous) |\n",
        "| Num_of_Loan             | Number of loans taken by the customer | Numerical (Discrete) |\n",
        "| Type_of_Loan            | Type of loans taken (e.g., personal, mortgage) | Categorical (Nominal) |\n",
        "| Delay_from_due_date     | Number of days payment was delayed | Numerical (Discrete) |\n",
        "| Num_of_Delayed_Payment  | Total instances of delayed payments | Numerical (Discrete) |\n",
        "| Changed_Credit_Limit    | Whether the credit limit has changed | Categorical (Nominal) |\n",
        "| Num_Credit_Inquiries    | Number of credit inquiries made | Numerical (Discrete) |\n",
        "| Credit_Mix              | Mix of different credit types (e.g., personal, mortgage, car loan) | Categorical (Ordinal) |\n",
        "| Outstanding_Debt        | Total debt amount owed | Numerical (Continuous) |\n",
        "| Credit_Utilization_Ratio| Ratio of credit used to available credit | Numerical (Continuous) |\n",
        "| Credit_History_Age      | Total age of the customer’s credit history | Numerical (Discrete) |\n",
        "| Payment_of_Min_Amount   | Whether the customer paid the minimum required amount | Categorical (Nominal) |\n",
        "| Total_EMI_per_month     | Monthly Equated Monthly Installment (EMI) payments | Numerical (Continuous) |\n",
        "| Amount_invested_monthly | Monthly savings and investments | Numerical (Continuous) |\n",
        "| Payment_Behaviour       | Spending and payment habits of the customer | Categorical (Nominal) |\n",
        "| Monthly_Balance         | End-of-month balance after transactions | Numerical (Continuous) |\n",
        "| Credit_Score            | **Target Variable** (Low, Standard, Good) | Categorical (Ordinal) |\n",
        "\n",
        "\n",
        "\n",
        "*   **MISSING VALUES**:\n",
        "\n",
        "Missing Values Analysis for Credit Score Train Dataset:\n",
        "No empty strings found.\n",
        "No question mark values ('?') found.\n",
        "\n",
        "NaN Values found in the dataset:\n",
        "\n",
        "Name                        9985\n",
        "\n",
        "Monthly_Inhand_Salary      15002\n",
        "\n",
        "Type_of_Loan               11408\n",
        "\n",
        "Num_of_Delayed_Payment      7002\n",
        "\n",
        "Num_Credit_Inquiries        1965\n",
        "\n",
        "Credit_History_Age          9030\n",
        "\n",
        "Amount_invested_monthly     4479\n",
        "\n",
        "Monthly_Balance             1200\n",
        "\n",
        "*   **REDUNDANCY** :No duplicate rows or columns were found in the dataset, indicating that all features are unique and do not contain redundancy."
      ],
      "metadata": {
        "id": "KYAYPdLch9K6"
      }
    },
    {
      "cell_type": "markdown",
      "source": [
        "# 4. Imputation"
      ],
      "metadata": {
        "id": "nLYR4OFeiXF9"
      }
    },
    {
      "cell_type": "markdown",
      "source": [
        "### **4.1)  Test 1 – Default Value Imputation**"
      ],
      "metadata": {
        "id": "zbZs9GXp5Cnz"
      }
    },
    {
      "cell_type": "markdown",
      "source": [
        "**Attribute:** Annual_Income\n",
        "\n",
        "- Type of simulated missing values: MCAR (Missing Completely At Random)\n",
        "- Imputation method: Default value imputation; We replace missing values ​​with the median of the Annual_Income distribution, in order to preserve the central tendency of the data without being influenced by extreme values."
      ],
      "metadata": {
        "id": "RupbKs0H6B-U"
      }
    },
    {
      "cell_type": "code",
      "source": [
        "import numpy as np\n",
        "\n",
        "# Création d'une copie pour ne pas modifier les données originales\n",
        "df_test1 = df_credit_train_clean.copy()\n",
        "\n",
        "# Sélectionner 10% des valeurs non nulles et les remplacer par NaN (MCAR)\n",
        "np.random.seed(42)  # Pour rendre reproductible l'expérience\n",
        "missing_indices = np.random.choice(df_test1[df_test1[\"Monthly_Inhand_Salary\"].notnull()].index,\n",
        "                                   size=int(0.1 * df_test1.shape[0]), replace=False)\n",
        "df_test1.loc[missing_indices, \"Monthly_Inhand_Salary\"] = np.nan\n",
        "\n",
        "# Vérification des valeurs manquantes\n",
        "print(\"Missing values ​​after deletion: {df_test1['Monthly_Inhand_Salary'].isnull().sum()}\")\n"
      ],
      "metadata": {
        "colab": {
          "base_uri": "https://localhost:8080/"
        },
        "id": "0vpP7RdqjV-0",
        "outputId": "8ceeff9c-a85e-4137-9220-7fdbef1d3cc0"
      },
      "execution_count": null,
      "outputs": [
        {
          "output_type": "stream",
          "name": "stdout",
          "text": [
            "Valeurs manquantes après suppression : 10000\n"
          ]
        }
      ]
    },
    {
      "cell_type": "code",
      "source": [
        "# Sauvegarde de l'état avant imputation\n",
        "df_before_imputation = df_test1.copy()\n",
        "\n",
        "# Calcul de la médiane\n",
        "median_salary = df_before_imputation[\"Monthly_Inhand_Salary\"].median()\n",
        "print(\"Median value used for imputation: {median_salary}\")\n",
        "\n",
        "# Remplacement des NaN par la médiane\n",
        "df_test1[\"Monthly_Inhand_Salary\"].fillna(median_salary, inplace=True)\n",
        "\n",
        "# Vérification des valeurs manquantes après imputation\n",
        "print(\"Missing values ​​after imputation : {df_test1['Monthly_Inhand_Salary'].isnull().sum()}\")\n"
      ],
      "metadata": {
        "colab": {
          "base_uri": "https://localhost:8080/"
        },
        "id": "a-EuHfe9jZid",
        "outputId": "af9b6bc3-4ca5-48e4-a8ee-e10ec5658354"
      },
      "execution_count": null,
      "outputs": [
        {
          "output_type": "stream",
          "name": "stdout",
          "text": [
            "Valeur médiane utilisée pour l'imputation : 3093.745000000001\n",
            " Valeurs manquantes après imputation : 0\n"
          ]
        },
        {
          "output_type": "stream",
          "name": "stderr",
          "text": [
            "<ipython-input-81-60015302718c>:9: FutureWarning: A value is trying to be set on a copy of a DataFrame or Series through chained assignment using an inplace method.\n",
            "The behavior will change in pandas 3.0. This inplace method will never work because the intermediate object on which we are setting values always behaves as a copy.\n",
            "\n",
            "For example, when doing 'df[col].method(value, inplace=True)', try using 'df.method({col: value}, inplace=True)' or df[col] = df[col].method(value) instead, to perform the operation inplace on the original object.\n",
            "\n",
            "\n",
            "  df_test1[\"Monthly_Inhand_Salary\"].fillna(median_salary, inplace=True)\n"
          ]
        }
      ]
    },
    {
      "cell_type": "code",
      "source": [
        "import matplotlib.pyplot as plt\n",
        "\n",
        "plt.figure(figsize=(8,5))\n",
        "plt.hist(df_before_imputation[\"Monthly_Inhand_Salary\"].dropna(), bins=50, alpha=0.6, label=\"Before Imputation\", color='red')\n",
        "plt.hist(df_test1[\"Monthly_Inhand_Salary\"], bins=50, alpha=0.6, label=\"After Imputation\", color='blue')\n",
        "plt.title(\"Distribution of Monthly Inhand Salary (Before & After Imputation)\")\n",
        "plt.xlabel(\"Salary\")\n",
        "plt.ylabel(\"Frequency\")\n",
        "plt.legend()\n",
        "plt.show()\n"
      ],
      "metadata": {
        "colab": {
          "base_uri": "https://localhost:8080/",
          "height": 487
        },
        "id": "dtGr-z5rjdy6",
        "outputId": "0e09958e-5876-440a-bd20-d2717d5dc1b3"
      },
      "execution_count": null,
      "outputs": [
        {
          "output_type": "display_data",
          "data": {
            "text/plain": [
              "<Figure size 800x500 with 1 Axes>"
            ],
            "image/png": "[encoded data removed]"
          },
          "metadata": {}
        }
      ]
    },
    {
      "cell_type": "markdown",
      "source": [
        "### **4.2)  Test 2 – Regression imputation**"
      ],
      "metadata": {
        "id": "iwHOUep5AROc"
      }
    },
    {
      "cell_type": "markdown",
      "source": [
        "**Attribute:** Outstanding_Debt\n",
        "\n",
        "- Type of simulated missing values: MAR (Missing At Random): Missing values ​​of Outstanding_Debt are correlated with another variable, namely Delay_from_due_date. The hypothesis here is that people with a longer history of late payment have a higher probability of having a larger outstanding debt.\n",
        "- Imputation method: Regression imputation; We used linear regression where the independent variable (Delay_from_due_date) is used to predict missing values ​​of Outstanding_Debt."
      ],
      "metadata": {
        "id": "L4OejDAcepel"
      }
    },
    {
      "cell_type": "code",
      "source": [
        "# Calculer la corrélation entre Outstanding_Debt et toutes les autres colonnes numériques\n",
        "correlations = df_credit_train_clean.select_dtypes(include=np.number).corr()[\"Outstanding_Debt\"].sort_values(ascending=False)\n",
        "print(correlations)"
      ],
      "metadata": {
        "colab": {
          "base_uri": "https://localhost:8080/"
        },
        "collapsed": true,
        "id": "1hG6mGdVU-pW",
        "outputId": "9421f8a9-6c46-459b-fd79-54833ed2ee0c"
      },
      "execution_count": null,
      "outputs": [
        {
          "output_type": "stream",
          "name": "stdout",
          "text": [
            "Outstanding_Debt            1.000000\n",
            "Delay_from_due_date         0.568798\n",
            "Num_Bank_Accounts           0.015973\n",
            "Num_Credit_Inquiries        0.013134\n",
            "Interest_Rate               0.010632\n",
            "Num_Credit_Card             0.006010\n",
            "Annual_Income              -0.002870\n",
            "Total_EMI_per_month        -0.004847\n",
            "Credit_Utilization_Ratio   -0.070508\n",
            "Monthly_Inhand_Salary      -0.231281\n",
            "Name: Outstanding_Debt, dtype: float64\n"
          ]
        }
      ]
    },
    {
      "cell_type": "code",
      "source": [
        "from sklearn.linear_model import LinearRegression\n",
        "import numpy as np\n",
        "import matplotlib.pyplot as plt\n",
        "\n",
        "# 🔹 Étape 1 : Faire une copie du dataset\n",
        "df_credit_train_clean = df_credit_train.copy()\n",
        "\n",
        "# 🔹 Étape 2 : Convertir les colonnes en numériques\n",
        "df_credit_train_clean[\"Outstanding_Debt\"] = pd.to_numeric(df_credit_train_clean[\"Outstanding_Debt\"], errors=\"coerce\")\n",
        "df_credit_train_clean[\"Delay_from_due_date\"] = pd.to_numeric(df_credit_train_clean[\"Delay_from_due_date\"], errors=\"coerce\")\n",
        "\n",
        "# 🔹 Étape 3 : Simuler des valeurs manquantes (10% des valeurs)\n",
        "np.random.seed(42)\n",
        "missing_indices = np.random.choice(df_credit_train_clean.index, size=int(0.1 * len(df_credit_train_clean)), replace=False)\n",
        "df_credit_train_clean.loc[missing_indices, \"Outstanding_Debt\"] = np.nan\n",
        "\n",
        "print(\"Number of simulated missing values : {df_credit_train_clean['Outstanding_Debt'].isnull().sum()}\")\n",
        "\n",
        "# 🔹 Étape 4 : Séparer les données complètes et les valeurs manquantes\n",
        "df_complete = df_credit_train_clean.dropna(subset=[\"Outstanding_Debt\", \"Delay_from_due_date\"])\n",
        "df_missing = df_credit_train_clean[df_credit_train_clean[\"Outstanding_Debt\"].isnull()]\n",
        "\n",
        "# Vérifier qu'il y a des valeurs disponibles pour l'imputation\n",
        "if df_missing.empty:\n",
        "    print(\"Aucune donnée utilisable pour l'imputation, vérifiez vos données !\")\n",
        "else:\n",
        "    # 🔹 Étape 5 : Sélection des variables pour la régression\n",
        "    X_train = df_complete[[\"Delay_from_due_date\"]]\n",
        "    y_train = df_complete[\"Outstanding_Debt\"]\n",
        "\n",
        "    # 🔹 Étape 6 : Entraîner le modèle de régression\n",
        "    reg = LinearRegression()\n",
        "    reg.fit(X_train, y_train)\n",
        "\n",
        "    # 🔹 Étape 7 : Vérifier la qualité du modèle\n",
        "    r2_score = reg.score(X_train, y_train)\n",
        "    print(\"R² score of the model : {r2_score:.4f}\")\n",
        "\n",
        "    # 🔹 Étape 8 : Prédire les valeurs manquantes\n",
        "    X_missing = df_missing[[\"Delay_from_due_date\"]]\n",
        "    predictions = reg.predict(X_missing)\n",
        "\n",
        "    # 🔹 Étape 9 : Remplacer les NaN par les valeurs prédites\n",
        "    df_credit_train_clean.loc[df_credit_train_clean[\"Outstanding_Debt\"].isnull(), \"Outstanding_Debt\"] = predictions\n",
        "\n",
        "    # 🔹 Étape 10 : Vérifier les valeurs manquantes après imputation\n",
        "    print(\"Missing values ​​after imputation :\", df_credit_train_clean[\"Outstanding_Debt\"].isnull().sum())\n",
        "\n",
        "    # 🔹 Étape 11 : Visualisation\n",
        "    plt.figure(figsize=(8,5))\n",
        "    plt.hist(df_complete[\"Outstanding_Debt\"], bins=50, alpha=0.6, label=\"Before Imputation\", color='red', edgecolor='black')\n",
        "    plt.hist(df_credit_train_clean[\"Outstanding_Debt\"], bins=50, alpha=0.5, label=\"After Imputation\", color='blue', edgecolor='black')\n",
        "    plt.title(\"Distribution of Outstanding Debt (Before & After Imputation)\")\n",
        "    plt.xlabel(\"Outstanding Debt\")\n",
        "    plt.ylabel(\"Frequency\")\n",
        "    plt.legend()\n",
        "    plt.show()\n"
      ],
      "metadata": {
        "colab": {
          "base_uri": "https://localhost:8080/",
          "height": 539
        },
        "id": "VC1yCwQbZc0D",
        "outputId": "79baf832-fbbf-46ae-f6e8-f22ffa4f5115"
      },
      "execution_count": null,
      "outputs": [
        {
          "output_type": "stream",
          "name": "stdout",
          "text": [
            "Nombre de valeurs manquantes simulées : 10905\n",
            "Score R² du modèle : 0.3264\n",
            "Valeurs manquantes après imputation : 0\n"
          ]
        },
        {
          "output_type": "display_data",
          "data": {
            "text/plain": [
              "<Figure size 800x500 with 1 Axes>"
            ],
            "image/png": "[encoded data removed]"
          },
          "metadata": {}
        }
      ]
    },
    {
      "cell_type": "markdown",
      "source": [
        "### **4.3) Test 3 – Similarity-Based Imputation**"
      ],
      "metadata": {
        "id": "M_nkJ22vLSr8"
      }
    },
    {
      "cell_type": "markdown",
      "source": [
        "**Attribute:** Num_Credit_Inquiries\n",
        "\n",
        "- Type of simulated missing values: MAR (Missing At Random); Num Credit Inquiries depends on some financial variables like Outstanding Debt\n",
        "- Imputation method: Similarity-based imputation."
      ],
      "metadata": {
        "id": "gct5sXDMmKGh"
      }
    },
    {
      "cell_type": "code",
      "source": [
        "print(\"Number of missing values ​​before imputation :\", df_credit_train_clean[\"Num_Credit_Inquiries\"].isnull().sum())\n"
      ],
      "metadata": {
        "colab": {
          "base_uri": "https://localhost:8080/"
        },
        "id": "psHygfxznLPy",
        "outputId": "f3972701-5bf3-49a5-fbd7-75a5730d713a"
      },
      "execution_count": null,
      "outputs": [
        {
          "output_type": "stream",
          "name": "stdout",
          "text": [
            "Nombre de valeurs manquantes avant imputation : 1965\n"
          ]
        }
      ]
    },
    {
      "cell_type": "code",
      "source": [
        "# Sélectionner uniquement les colonnes numériques\n",
        "df_numeric = df_credit_train_clean.select_dtypes(include=['number'])\n",
        "\n",
        "# Calculer la matrice de corrélation sur ces colonnes\n",
        "corr_matrix = df_numeric.corr()\n",
        "\n",
        "# Trier les variables les plus corrélées avec Num_Credit_Inquiries\n",
        "corr_target = corr_matrix[\"Num_Credit_Inquiries\"].dropna().sort_values(ascending=False)\n",
        "\n",
        "# Afficher les 5 variables les plus corrélées\n",
        "print(\"Variables most correlated with Num_Credit_Inquiries:\")\n",
        "print(corr_target.head(5))\n"
      ],
      "metadata": {
        "colab": {
          "base_uri": "https://localhost:8080/"
        },
        "id": "e11zHaPbnXq2",
        "outputId": "8053080d-0f8a-4ea2-beaf-577193699e35"
      },
      "execution_count": null,
      "outputs": [
        {
          "output_type": "stream",
          "name": "stdout",
          "text": [
            "🔎 Variables les plus corrélées avec Num_Credit_Inquiries :\n",
            "Num_Credit_Inquiries        1.000000\n",
            "Outstanding_Debt            0.014817\n",
            "Delay_from_due_date         0.011508\n",
            "Annual_Income               0.003792\n",
            "Credit_Utilization_Ratio    0.000145\n",
            "Name: Num_Credit_Inquiries, dtype: float64\n"
          ]
        }
      ]
    },
    {
      "cell_type": "code",
      "source": [
        "from sklearn.impute import KNNImputer\n",
        "import numpy as np\n",
        "\n",
        "# Sélectionner les colonnes utiles\n",
        "df_test3 = df_credit_train_clean[[\"Num_Credit_Inquiries\", \"Outstanding_Debt\"]].copy()\n",
        "\n",
        "# Vérifier les valeurs manquantes avant imputation\n",
        "print(\"Missing values ​​before imputation:\")\n",
        "print(df_test3.isnull().sum())\n"
      ],
      "metadata": {
        "colab": {
          "base_uri": "https://localhost:8080/"
        },
        "id": "Vhk2e7rFtfz8",
        "outputId": "b983ad74-9619-4a10-ca51-5072eca27208"
      },
      "execution_count": null,
      "outputs": [
        {
          "output_type": "stream",
          "name": "stdout",
          "text": [
            "Valeurs manquantes avant imputation :\n",
            "Num_Credit_Inquiries    1965\n",
            "Outstanding_Debt           0\n",
            "dtype: int64\n"
          ]
        }
      ]
    },
    {
      "cell_type": "code",
      "source": [
        "# Initialiser l'imputateur KNN\n",
        "imputer = KNNImputer(n_neighbors=5)\n",
        "\n",
        "# Appliquer l'imputation\n",
        "df_test3_imputed = imputer.fit_transform(df_test3)\n",
        "\n",
        "# Remettre sous forme de DataFrame\n",
        "df_test3_imputed = pd.DataFrame(df_test3_imputed, columns=df_test3.columns)\n",
        "\n",
        "# Vérifier les valeurs manquantes après imputation\n",
        "print(\"Missing values ​​after imputation:\")\n",
        "print(df_test3_imputed.isnull().sum())\n"
      ],
      "metadata": {
        "colab": {
          "base_uri": "https://localhost:8080/"
        },
        "id": "1uYH08rVtj5p",
        "outputId": "3f66011e-1654-4e4b-803a-104e11ad7132"
      },
      "execution_count": null,
      "outputs": [
        {
          "output_type": "stream",
          "name": "stdout",
          "text": [
            "✅ Valeurs manquantes après imputation :\n",
            "Num_Credit_Inquiries    0\n",
            "Outstanding_Debt        0\n",
            "dtype: int64\n"
          ]
        }
      ]
    },
    {
      "cell_type": "code",
      "source": [
        "plt.figure(figsize=(8,5))\n",
        "plt.hist(df_test3[\"Num_Credit_Inquiries\"].dropna(), bins=50, alpha=0.5, label=\"Before Imputation\", color='red', edgecolor='black')\n",
        "plt.hist(df_test3_imputed[\"Num_Credit_Inquiries\"], bins=50, alpha=0.5, label=\"After Imputation\", color='blue', edgecolor='black')\n",
        "plt.title(\"Distribution of Num_Credit_Inquiries (Before & After Imputation)\")\n",
        "plt.xlabel(\"Num_Credit_Inquiries\")\n",
        "plt.ylabel(\"Frequency\")\n",
        "plt.legend()\n",
        "plt.show()\n"
      ],
      "metadata": {
        "colab": {
          "base_uri": "https://localhost:8080/",
          "height": 488
        },
        "id": "t8jFhBVTuY18",
        "outputId": "78a0a4ab-3b31-4ec2-b9df-aefe6988c6c9"
      },
      "execution_count": null,
      "outputs": [
        {
          "output_type": "display_data",
          "data": {
            "text/plain": [
              "<Figure size 800x500 with 1 Axes>"
            ],
            "image/png": "[encoded data removed]"
          },
          "metadata": {}
        }
      ]
    },
    {
      "cell_type": "markdown",
      "source": [
        "# 5. CONCLUSION"
      ],
      "metadata": {
        "id": "FpQ7INAalD3T"
      }
    },
    {
      "cell_type": "markdown",
      "source": [
        "The Credit Score Train Dataset was analyzed to explore strategies for handling missing values and their impact on data quality, with three distinct imputation methods applied to variables with missing values:\n",
        "\n",
        "1. Default Value Imputation (univariate) on Monthly Inhand Salary, allowing to preserve the overall distribution without significantly altering the extreme values.\n",
        "\n",
        "2. Regression Imputation (bivariate) on Outstanding_Debt, using Annual_Income as explanatory variable, showing a weak correlation and suggesting that other factors influence this variable more.\n",
        "\n",
        "3. Similarity-Based Imputation (multivariate) on Num_Credit_Inquiries, which efficiently completed the data while maintaining a distribution consistent with the original values"
      ],
      "metadata": {
        "id": "jI6IXk7Cw6SS"
      }
    },
    {
      "cell_type": "markdown",
      "source": [
        "# 6. REFERENCES"
      ],
      "metadata": {
        "id": "_qBTLJd9RpV5"
      }
    },
    {
      "cell_type": "markdown",
      "source": [
        "- Credit score classification. (2022, June 22). Kaggle. https://www.kaggle.com/datasets/parisrohan/credit-score-classification\n",
        "- 6.4. Imputation of missing values. (n.d.). Scikit-learn. https://scikit-learn.org/stable/modules/impute.html"
      ],
      "metadata": {
        "id": "8QzhQ_mY5btN"
      }
    }
  ]
}