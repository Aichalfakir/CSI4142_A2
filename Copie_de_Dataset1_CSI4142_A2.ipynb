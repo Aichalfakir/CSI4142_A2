{
  "nbformat": 4,
  "nbformat_minor": 0,
  "metadata": {
    "colab": {
      "provenance": [],
      "include_colab_link": true
    },
    "kernelspec": {
      "name": "python3",
      "display_name": "Python 3"
    },
    "language_info": {
      "name": "python"
    }
  },
  "cells": [
    {
      "cell_type": "markdown",
      "metadata": {
        "id": "view-in-github",
        "colab_type": "text"
      },
      "source": [
        "<a href=\"https://colab.research.google.com/github/Aichalfakir/CSI4142_A2/blob/main/Copie_de_Dataset1_CSI4142_A2.ipynb\" target=\"_parent\"><img src=\"https://colab.research.google.com/assets/colab-badge.svg\" alt=\"Open In Colab\"/></a>"
      ]
    },
    {
      "cell_type": "markdown",
      "source": [
        "# DATA CLEANING\n",
        "\n"
      ],
      "metadata": {
        "id": "9l0vRA5ce21x"
      }
    },
    {
      "cell_type": "markdown",
      "source": [
        "# INTRODUCTION (FOR DATASET 1)\n",
        "\n",
        "\n",
        "\n",
        "* **GOAL OF THE ANALYSIS**\n",
        "\n",
        "The objective of this analysis is to explore and derive insights from the Netflix Movies and TV Shows dataset by examining key attributes such as genre, director, cast, release year, duration, and ratings. The goal is to identify trends, patterns, and potential correlations that can help understand content distribution, audience preferences, and overall streaming trends on Netflix.\n",
        "\n",
        "*   **AUDIENCE**\n",
        "\n",
        "This analysis is intended for:\n",
        "\n",
        "* Data Analysts: To extract meaningful patterns and trends in Netflix content.\n",
        "* Content Creators: To understand what types of movies and shows are popular.\n",
        "* Marketing Teams: To gain insights into audience preferences and content availability.\n",
        "* Streaming Industry Professionals: To compare Netflix’s content strategy with competitors.\n",
        "\n",
        "\n"
      ],
      "metadata": {
        "id": "jYye1tPZgGxc"
      }
    },
    {
      "cell_type": "markdown",
      "source": [
        "# DATASETS IMPORTS AND LOADING"
      ],
      "metadata": {
        "id": "SIh9aHdWgg8Y"
      }
    },
    {
      "cell_type": "code",
      "source": [
        "import pandas as pd\n",
        "import numpy as np\n",
        "from difflib import SequenceMatcher"
      ],
      "metadata": {
        "id": "oyX5Cgji0oND"
      },
      "execution_count": null,
      "outputs": []
    },
    {
      "cell_type": "code",
      "source": [
        "\n",
        "url_netflix = \"https://raw.githubusercontent.com/exaucee2/CSI4142_A2/master/netflix_titles.csv\"\n",
        "dataset_netflix = pd.read_csv(url_netflix)\n",
        "\n",
        "print(\"Dataset Netflix\")\n",
        "print(dataset_netflix.info())\n",
        "print(dataset_netflix.head())\n",
        "print(dataset_netflix.describe(include='all'))"
      ],
      "metadata": {
        "colab": {
          "base_uri": "https://localhost:8080/"
        },
        "id": "AFRSL1xr0qVO",
        "outputId": "5e4a0193-d6a5-4930-e0b8-7f1915244335",
        "collapsed": true
      },
      "execution_count": null,
      "outputs": [
        {
          "output_type": "stream",
          "name": "stdout",
          "text": [
            "Dataset Netflix\n",
            "<class 'pandas.core.frame.DataFrame'>\n",
            "RangeIndex: 8807 entries, 0 to 8806\n",
            "Data columns (total 12 columns):\n",
            " #   Column        Non-Null Count  Dtype \n",
            "---  ------        --------------  ----- \n",
            " 0   show_id       8807 non-null   object\n",
            " 1   type          8807 non-null   object\n",
            " 2   title         8807 non-null   object\n",
            " 3   director      6173 non-null   object\n",
            " 4   cast          7982 non-null   object\n",
            " 5   country       7976 non-null   object\n",
            " 6   date_added    8797 non-null   object\n",
            " 7   release_year  8807 non-null   int64 \n",
            " 8   rating        8803 non-null   object\n",
            " 9   duration      8804 non-null   object\n",
            " 10  listed_in     8807 non-null   object\n",
            " 11  description   8807 non-null   object\n",
            "dtypes: int64(1), object(11)\n",
            "memory usage: 825.8+ KB\n",
            "None\n",
            "  show_id     type                  title         director  \\\n",
            "0      s1    Movie   Dick Johnson Is Dead  Kirsten Johnson   \n",
            "1      s2  TV Show          Blood & Water              NaN   \n",
            "2      s3  TV Show              Ganglands  Julien Leclercq   \n",
            "3      s4  TV Show  Jailbirds New Orleans              NaN   \n",
            "4      s5  TV Show           Kota Factory              NaN   \n",
            "\n",
            "                                                cast        country  \\\n",
            "0                                                NaN  United States   \n",
            "1  Ama Qamata, Khosi Ngema, Gail Mabalane, Thaban...   South Africa   \n",
            "2  Sami Bouajila, Tracy Gotoas, Samuel Jouy, Nabi...            NaN   \n",
            "3                                                NaN            NaN   \n",
            "4  Mayur More, Jitendra Kumar, Ranjan Raj, Alam K...          India   \n",
            "\n",
            "           date_added  release_year rating   duration  \\\n",
            "0  September 25, 2021          2020  PG-13     90 min   \n",
            "1  September 24, 2021          2021  TV-MA  2 Seasons   \n",
            "2  September 24, 2021          2021  TV-MA   1 Season   \n",
            "3  September 24, 2021          2021  TV-MA   1 Season   \n",
            "4  September 24, 2021          2021  TV-MA  2 Seasons   \n",
            "\n",
            "                                           listed_in  \\\n",
            "0                                      Documentaries   \n",
            "1    International TV Shows, TV Dramas, TV Mysteries   \n",
            "2  Crime TV Shows, International TV Shows, TV Act...   \n",
            "3                             Docuseries, Reality TV   \n",
            "4  International TV Shows, Romantic TV Shows, TV ...   \n",
            "\n",
            "                                         description  \n",
            "0  As her father nears the end of his life, filmm...  \n",
            "1  After crossing paths at a party, a Cape Town t...  \n",
            "2  To protect his family from a powerful drug lor...  \n",
            "3  Feuds, flirtations and toilet talk go down amo...  \n",
            "4  In a city of coaching centers known to train I...  \n",
            "       show_id   type                 title       director  \\\n",
            "count     8807   8807                  8807           6173   \n",
            "unique    8807      2                  8807           4528   \n",
            "top         s1  Movie  Dick Johnson Is Dead  Rajiv Chilaka   \n",
            "freq         1   6131                     1             19   \n",
            "mean       NaN    NaN                   NaN            NaN   \n",
            "std        NaN    NaN                   NaN            NaN   \n",
            "min        NaN    NaN                   NaN            NaN   \n",
            "25%        NaN    NaN                   NaN            NaN   \n",
            "50%        NaN    NaN                   NaN            NaN   \n",
            "75%        NaN    NaN                   NaN            NaN   \n",
            "max        NaN    NaN                   NaN            NaN   \n",
            "\n",
            "                      cast        country       date_added  release_year  \\\n",
            "count                 7982           7976             8797   8807.000000   \n",
            "unique                7692            748             1767           NaN   \n",
            "top     David Attenborough  United States  January 1, 2020           NaN   \n",
            "freq                    19           2818              109           NaN   \n",
            "mean                   NaN            NaN              NaN   2014.180198   \n",
            "std                    NaN            NaN              NaN      8.819312   \n",
            "min                    NaN            NaN              NaN   1925.000000   \n",
            "25%                    NaN            NaN              NaN   2013.000000   \n",
            "50%                    NaN            NaN              NaN   2017.000000   \n",
            "75%                    NaN            NaN              NaN   2019.000000   \n",
            "max                    NaN            NaN              NaN   2021.000000   \n",
            "\n",
            "       rating  duration                     listed_in  \\\n",
            "count    8803      8804                          8807   \n",
            "unique     17       220                           514   \n",
            "top     TV-MA  1 Season  Dramas, International Movies   \n",
            "freq     3207      1793                           362   \n",
            "mean      NaN       NaN                           NaN   \n",
            "std       NaN       NaN                           NaN   \n",
            "min       NaN       NaN                           NaN   \n",
            "25%       NaN       NaN                           NaN   \n",
            "50%       NaN       NaN                           NaN   \n",
            "75%       NaN       NaN                           NaN   \n",
            "max       NaN       NaN                           NaN   \n",
            "\n",
            "                                              description  \n",
            "count                                                8807  \n",
            "unique                                               8775  \n",
            "top     Paranormal activity at a lush, abandoned prope...  \n",
            "freq                                                    4  \n",
            "mean                                                  NaN  \n",
            "std                                                   NaN  \n",
            "min                                                   NaN  \n",
            "25%                                                   NaN  \n",
            "50%                                                   NaN  \n",
            "75%                                                   NaN  \n",
            "max                                                   NaN  \n"
          ]
        }
      ]
    },
    {
      "cell_type": "markdown",
      "source": [
        "# MISSING VALUES"
      ],
      "metadata": {
        "id": "AnaSZYVXoRfz"
      }
    },
    {
      "cell_type": "code",
      "source": [
        "def display_missing_values(df, dataset_name):\n",
        "    print(f\"\\nOutput for {dataset_name}:\")\n",
        "\n",
        "    def display_statistics(missing, label):\n",
        "        if (missing > 0).any():\n",
        "            print(f\"{label}:\\n{missing[missing > 0]}\")\n",
        "        else:\n",
        "            print(f\"No {label.lower()} found\")\n",
        "\n",
        "    # Empty strings\n",
        "    missing_empty = (df == '').sum()\n",
        "    display_statistics(missing_empty, \"Empty Strings\")\n",
        "\n",
        "    # '?' as a missing value\n",
        "    missing_question_mark = (df == '?').sum()\n",
        "    display_statistics(missing_question_mark, \"Question Mark Values ('?')\")\n",
        "\n",
        "    # NaN values\n",
        "    missing_NaN = df.isnull().sum()\n",
        "    display_statistics(missing_NaN, \"NaN Values\")\n",
        "\n",
        "\n",
        "datasets = [\n",
        "\n",
        "    (dataset_netflix, 'Netflix Dataset')\n",
        "]\n",
        "\n",
        "for data, name in datasets:\n",
        "    display_missing_values(data, name)"
      ],
      "metadata": {
        "colab": {
          "base_uri": "https://localhost:8080/"
        },
        "id": "xXRos4usoXD9",
        "outputId": "92d5df51-9e71-4bae-a036-a6b47223e3f1"
      },
      "execution_count": null,
      "outputs": [
        {
          "output_type": "stream",
          "name": "stdout",
          "text": [
            "\n",
            "Output for Netflix Dataset:\n",
            "No empty strings found\n",
            "No question mark values ('?') found\n",
            "NaN Values:\n",
            "director      2634\n",
            "cast           825\n",
            "country        831\n",
            "date_added      10\n",
            "rating           4\n",
            "duration         3\n",
            "dtype: int64\n"
          ]
        }
      ]
    },
    {
      "cell_type": "markdown",
      "source": [
        "# REDUNDANCY"
      ],
      "metadata": {
        "id": "oG3gZccYopTu"
      }
    },
    {
      "cell_type": "code",
      "source": [
        "def check_duplicate_rows(df, dataset_name):\n",
        "    duplicate_rows = df[df.duplicated()]\n",
        "    if not duplicate_rows.empty:\n",
        "       print(f\"{dataset_name}: {len(duplicate_rows)} duplicate rows found.\")\n",
        "       print(\"Duplicate rows:\")\n",
        "       print(duplicate_rows)\n",
        "    else:\n",
        "       print(f\"{dataset_name}: No duplicate rows found.\")\n",
        "check_duplicate_rows(dataset_netflix, 'Netflix Dataset')\n"
      ],
      "metadata": {
        "colab": {
          "base_uri": "https://localhost:8080/"
        },
        "id": "RzTu9MS3ouk_",
        "outputId": "c656cfb7-2d7b-4dbd-a58f-a763473ced8c"
      },
      "execution_count": null,
      "outputs": [
        {
          "output_type": "stream",
          "name": "stdout",
          "text": [
            "Netflix Dataset: No duplicate rows found.\n"
          ]
        }
      ]
    },
    {
      "cell_type": "code",
      "source": [
        "def check_duplicate_columns(df, dataset_name):\n",
        "    duplicated_columns = df.T.duplicated().sum()\n",
        "    if duplicated_columns > 0:\n",
        "        print(f\"{dataset_name}: {duplicated_columns} duplicate columns found.\")\n",
        "    else:\n",
        "        print(f\"{dataset_name}: No duplicate columns found.\")\n",
        "\n",
        "check_duplicate_columns(dataset_netflix, 'Netflix Dataset')\n"
      ],
      "metadata": {
        "colab": {
          "base_uri": "https://localhost:8080/"
        },
        "id": "jwu1rFiSo7jr",
        "outputId": "2296b572-a4ca-4807-e72f-79d253c6f64b"
      },
      "execution_count": null,
      "outputs": [
        {
          "output_type": "stream",
          "name": "stdout",
          "text": [
            "Netflix Dataset: No duplicate columns found.\n"
          ]
        }
      ]
    },
    {
      "cell_type": "markdown",
      "source": [
        "# DATASETS DESCRIPTIONS"
      ],
      "metadata": {
        "id": "LbkJmLCMhsa8"
      }
    },
    {
      "cell_type": "markdown",
      "source": [
        "DATASET 1:\n",
        "\n",
        "\n",
        "*   **NAME**: netflix movies and tv shows\n",
        "*   **AUTHOR**: not found\n",
        "*   **PURPOSE**: The purpose of this dataset analysis is to:\n",
        "\n",
        "1. Identify missing data and ensure data quality.\n",
        "2. Analyze the diversity and distribution of movies and TV shows available on Netflix.\n",
        "3. Explore how factors such as country, rating, and genre influence content availability.\n",
        "4. Examine trends in content addition and removals over time.\n",
        "5. Provide actionable insights that can be used for decision-making in content acquisition and recommendation systems.\n",
        "\n",
        "*   **SHAPE:** this dataset contains 8807 rowa and 12 columns\n",
        "*   **LIST OF FEATURES**:\n",
        "\n",
        "| Column Name      |      Description        |         Data Type    |\n",
        "|-------------------------|---------------------------|--------------|\n",
        "|show_id| Unique identifier assigned to each show | Categorical (Nominal)\n",
        "|type | Type of content (Movie or TV Show)| Categorical (Nominal)\n",
        "|title |Title of the movie or TV showr|Categorical (Nominal)\n",
        "|director | Name of the director(s)|Categorical (Nominal)\n",
        "|cast|List of main actors/actresses|Categorical (Nominal)\n",
        "|country |Country where the movie/TV show was produced|Categorical (Nominal)\n",
        "|date_added| \tDate when the movie/TV show was added to Netflix|Categorical (Ordinal)\n",
        "|release_year| Year when the movie/TV show was released|Numerical (Discrete)\n",
        "|rating|Maturity rating (e.g., PG, TV-MA, etc.)|Categorical (Nominal)\n",
        "|duration|\tDuration of the movie (in minutes) or number of seasons for TV shows|Categorical (Nominal)\n",
        "|listed_in|Categories/Genres associated with the movie/TV show|Categorical (Nominal)\n",
        "|description|Brief summary of the movie/TV show|Numerical Text (Unstructured)\n",
        "\n",
        "\n",
        "\n",
        "*   **MISSING VALUES**: Output for Netflix Dataset:\n",
        "No empty strings found\n",
        "No question mark values ('?') found\n",
        "\n",
        "NaN Values:\n",
        "\n",
        "director      2634\n",
        "\n",
        "cast           825\n",
        "\n",
        "country        831\n",
        "\n",
        "date_added      10\n",
        "\n",
        "rating           4\n",
        "\n",
        "duration         3\n",
        "\n",
        "*   **REDUNDANCY** :No duplicate rows or columns were found in the dataset, indicating that all features are unique and do not contain redundancy."
      ],
      "metadata": {
        "id": "KYAYPdLch9K6"
      }
    },
    {
      "cell_type": "markdown",
      "source": [
        "# Add Errors to Each Column"
      ],
      "metadata": {
        "id": "SuQ9NIqLEFK2"
      }
    },
    {
      "cell_type": "code",
      "source": [
        "# Add errors to each column of the dataset\n",
        "\n",
        "# Type error: 'release_year' should be an integer, but we put a string\n",
        "dataset_netflix.loc[0, 'release_year'] = 'unknown'  # Type error\n",
        "\n",
        "# Range error: 'duration' should be between 0 and 300 minutes, we set a negative duration\n",
        "dataset_netflix.loc[10, 'duration'] = -5  # Negative duration\n",
        "dataset_netflix.loc[20, 'duration'] = 500  # Duration too high\n",
        "\n",
        "# Format error: 'date_added' should be in 'YYYY-MM-DD' format, but we set an incorrect format\n",
        "dataset_netflix.loc[5, 'date_added'] = '12/15/2021'  # Wrong date format\n",
        "\n",
        "# Consistency error: 'rating' is 'TV-MA', but 'duration' is inconsistent with this rating\n",
        "dataset_netflix.loc[15, 'rating'] = 'TV-MA'  # Adult rating\n",
        "dataset_netflix.loc[15, 'duration'] = 30  # Inconsistent duration for 'TV-MA'\n",
        "\n",
        "# Presence error: 'director' should have a value, but we set it to None\n",
        "dataset_netflix.loc[30, 'director'] = None  # Missing value\n",
        "\n",
        "# Exact duplicate: Duplicate an entire row (for example, row 5)\n",
        "dataset_netflix = pd.concat([dataset_netflix, dataset_netflix.iloc[5:6]])  # Duplicate row 5\n",
        "\n",
        "# Near duplicate: Slightly different title\n",
        "dataset_netflix.loc[40, 'title'] = 'The Big Bang Theory   '  # Added extra spaces\n",
        "dataset_netflix.loc[41, 'title'] = 'The Big Bang Theory'  # Almost identical title\n",
        "\n",
        "# Length error: 'title' should be longer, but we set a very short title\n",
        "dataset_netflix.loc[50, 'title'] = 'A'  # Title too short\n",
        "\n",
        "# Type error: 'type' should be a string, but we set it to an integer\n",
        "dataset_netflix.loc[10, 'type'] = 12345  # Type error (expected string)\n",
        "\n",
        "# Consistency error: 'country' and 'director' should logically relate, but we set inconsistent values\n",
        "dataset_netflix.loc[100, 'country'] = 'Mars'  # Fictional country\n",
        "dataset_netflix.loc[100, 'director'] = 'Unknown'  # Non-existent director\n",
        "\n",
        "# Presence error: 'cast' should always have a value, but we set it to None\n",
        "dataset_netflix.loc[200, 'cast'] = None  # Missing value\n",
        "\n",
        "# Type error: 'show_id' should be a string, but we set it to an integer\n",
        "dataset_netflix.loc[150, 'show_id'] = 987654  # Type error (expected string)\n",
        "\n",
        "# Add a near-duplicate row with slightly different values to test near duplicates\n",
        "dataset_netflix.loc[300, 'title'] = 'The Big Bang Theory'\n",
        "dataset_netflix.loc[301, 'title'] = 'The Big Bang Theory '  # Added an extra space\n",
        "\n",
        "\n",
        "print(\"Errors added successfully.\")\n",
        "print(dataset_netflix.head())\n"
      ],
      "metadata": {
        "colab": {
          "base_uri": "https://localhost:8080/"
        },
        "id": "I3qzNjH-EIrK",
        "outputId": "ad37f63e-9420-4ab3-bd3f-3e11522ab32f"
      },
      "execution_count": null,
      "outputs": [
        {
          "output_type": "stream",
          "name": "stdout",
          "text": [
            "Errors added successfully.\n",
            "  show_id     type                  title         director  \\\n",
            "0      s1    Movie   Dick Johnson Is Dead  Kirsten Johnson   \n",
            "1      s2  TV Show          Blood & Water              NaN   \n",
            "2      s3  TV Show              Ganglands  Julien Leclercq   \n",
            "3      s4  TV Show  Jailbirds New Orleans              NaN   \n",
            "4      s5  TV Show           Kota Factory              NaN   \n",
            "\n",
            "                                                cast        country  \\\n",
            "0                                                NaN  United States   \n",
            "1  Ama Qamata, Khosi Ngema, Gail Mabalane, Thaban...   South Africa   \n",
            "2  Sami Bouajila, Tracy Gotoas, Samuel Jouy, Nabi...            NaN   \n",
            "3                                                NaN            NaN   \n",
            "4  Mayur More, Jitendra Kumar, Ranjan Raj, Alam K...          India   \n",
            "\n",
            "           date_added release_year rating   duration  \\\n",
            "0  September 25, 2021      unknown  PG-13     90 min   \n",
            "1  September 24, 2021         2021  TV-MA  2 Seasons   \n",
            "2  September 24, 2021         2021  TV-MA   1 Season   \n",
            "3  September 24, 2021         2021  TV-MA   1 Season   \n",
            "4  September 24, 2021         2021  TV-MA  2 Seasons   \n",
            "\n",
            "                                           listed_in  \\\n",
            "0                                      Documentaries   \n",
            "1    International TV Shows, TV Dramas, TV Mysteries   \n",
            "2  Crime TV Shows, International TV Shows, TV Act...   \n",
            "3                             Docuseries, Reality TV   \n",
            "4  International TV Shows, Romantic TV Shows, TV ...   \n",
            "\n",
            "                                         description  title_length  \n",
            "0  As her father nears the end of his life, filmm...            20  \n",
            "1  After crossing paths at a party, a Cape Town t...            13  \n",
            "2  To protect his family from a powerful drug lor...             9  \n",
            "3  Feuds, flirtations and toilet talk go down amo...            21  \n",
            "4  In a city of coaching centers known to train I...            12  \n"
          ]
        },
        {
          "output_type": "stream",
          "name": "stderr",
          "text": [
            "<ipython-input-58-c708ef00f726>:4: FutureWarning: Setting an item of incompatible dtype is deprecated and will raise an error in a future version of pandas. Value 'unknown' has dtype incompatible with int64, please explicitly cast to a compatible dtype first.\n",
            "  dataset_netflix.loc[0, 'release_year'] = 'unknown'  # Type error\n"
          ]
        }
      ]
    },
    {
      "cell_type": "markdown",
      "source": [
        "# CLEAN DATA CHECKER  "
      ],
      "metadata": {
        "id": "PnTbF4qeidSU"
      }
    },
    {
      "cell_type": "markdown",
      "source": [
        "# DATA TYPE ERRORS"
      ],
      "metadata": {
        "id": "soQIS381kspY"
      }
    },
    {
      "cell_type": "markdown",
      "source": [
        "**Cell 1 : Test Name + Description**"
      ],
      "metadata": {
        "id": "Q0OaUZnF1emp"
      }
    },
    {
      "cell_type": "code",
      "source": [
        "# Description\n",
        "print(\"\\nTest 1: Data Type Errors\")\n",
        "print(\"\\nData Type Check: Verifying if each column has expected data types.\")"
      ],
      "metadata": {
        "colab": {
          "base_uri": "https://localhost:8080/"
        },
        "id": "EFzGPM_r1lD7",
        "outputId": "022ddf19-bc24-43b7-e882-64f9c69c3f23"
      },
      "execution_count": null,
      "outputs": [
        {
          "output_type": "stream",
          "name": "stdout",
          "text": [
            "\n",
            "Test 1: Data Type Errors\n",
            "\n",
            "Data Type Check: Verifying if each column has expected data types.\n"
          ]
        }
      ]
    },
    {
      "cell_type": "markdown",
      "source": [
        "**Cell 2 : Parameters for the Checker**"
      ],
      "metadata": {
        "id": "4-bAoIuU1vFh"
      }
    },
    {
      "cell_type": "code",
      "source": [
        "# Define expected data types for the columns (using pandas dtypes names):\n",
        "expected_dtypes = {\n",
        "    'show_id': 'object',\n",
        "    'type': 'object',\n",
        "    'title': 'object',\n",
        "    'director': 'object',\n",
        "    'cast': 'object',\n",
        "    'country': 'object',\n",
        "    'date_added': 'object',\n",
        "    'release_year': 'int64',\n",
        "    'rating': 'object',\n",
        "    'duration': 'object',\n",
        "    'listed_in': 'object',\n",
        "    'description': 'object'\n",
        "}\n",
        "print(\"Expected data types defined for columns.\")"
      ],
      "metadata": {
        "colab": {
          "base_uri": "https://localhost:8080/"
        },
        "id": "tHlbsxZ112od",
        "outputId": "be000e46-2472-4dab-f056-a63e36f09dff"
      },
      "execution_count": null,
      "outputs": [
        {
          "output_type": "stream",
          "name": "stdout",
          "text": [
            "Expected data types defined for columns.\n"
          ]
        }
      ]
    },
    {
      "cell_type": "markdown",
      "source": [
        "**Cell 3 : Checker Code**"
      ],
      "metadata": {
        "id": "lpiFKC5p2Xyl"
      }
    },
    {
      "cell_type": "code",
      "source": [
        "# Check for dtype mismatches, ensuring the column exists in expected_dtypes\n",
        "dtype_errors = {\n",
        "    col: dataset_netflix[col].dtype\n",
        "    for col in dataset_netflix.columns\n",
        "    if col in expected_dtypes and dataset_netflix[col].dtype != expected_dtypes[col]\n",
        "}\n",
        "\n",
        "print(dtype_errors)\n"
      ],
      "metadata": {
        "colab": {
          "base_uri": "https://localhost:8080/"
        },
        "id": "YXAbh8DN2eaO",
        "outputId": "cd1ef46e-f06a-4361-95dc-32c112c88e26"
      },
      "execution_count": null,
      "outputs": [
        {
          "output_type": "stream",
          "name": "stdout",
          "text": [
            "{'release_year': dtype('O')}\n"
          ]
        }
      ]
    },
    {
      "cell_type": "markdown",
      "source": [
        "**Cell 4 : Report of Findings**"
      ],
      "metadata": {
        "id": "HRJhUjZd2x8U"
      }
    },
    {
      "cell_type": "code",
      "source": [
        "if dtype_errors:\n",
        "    print(\"Data type mismatches found:\")\n",
        "    for col, dtype in dtype_errors.items():\n",
        "        print(f\"Column '{col}' has data type {dtype}, expected {expected_dtypes[col]}\")\n",
        "else:\n",
        "    print(\"No data type errors found.\")\n"
      ],
      "metadata": {
        "colab": {
          "base_uri": "https://localhost:8080/"
        },
        "id": "JUkGZNkm25l1",
        "outputId": "4525fdfe-9ca1-4f3c-f0eb-0dd3aea07306"
      },
      "execution_count": null,
      "outputs": [
        {
          "output_type": "stream",
          "name": "stdout",
          "text": [
            "Data type mismatches found:\n",
            "Column 'release_year' has data type object, expected int64\n"
          ]
        }
      ]
    },
    {
      "cell_type": "markdown",
      "source": [
        "# RANGE ERRORS"
      ],
      "metadata": {
        "id": "2lDbdjuxky95"
      }
    },
    {
      "cell_type": "markdown",
      "source": [
        "**Cell 1 : Test Name + Description**"
      ],
      "metadata": {
        "id": "e-K8zXnb3OGF"
      }
    },
    {
      "cell_type": "code",
      "source": [
        "# Description\n",
        "print(\"\\nTest 2: Range Errors\")\n",
        "print(\"\\nRange Check: Ensuring numerical values fall within expected range.\")"
      ],
      "metadata": {
        "colab": {
          "base_uri": "https://localhost:8080/"
        },
        "id": "2hOv8RT_3Pmo",
        "outputId": "6c1cf188-9754-4283-9115-eaca888c29d9"
      },
      "execution_count": null,
      "outputs": [
        {
          "output_type": "stream",
          "name": "stdout",
          "text": [
            "\n",
            "Test 2: Range Errors\n",
            "\n",
            "Range Check: Ensuring numerical values fall within expected range.\n"
          ]
        }
      ]
    },
    {
      "cell_type": "markdown",
      "source": [
        "**Cell 2 : Parameters for the Checker**"
      ],
      "metadata": {
        "id": "f-nh9Nw03V7Q"
      }
    },
    {
      "cell_type": "code",
      "source": [
        "range_checks = {\n",
        "    'release_year': {'min': 1900, 'max': 2022},\n",
        "    'duration': {'min': 0, 'max': 300}\n",
        "}"
      ],
      "metadata": {
        "id": "Rt17rxtX3aAz"
      },
      "execution_count": null,
      "outputs": []
    },
    {
      "cell_type": "markdown",
      "source": [
        "**Cell 3 : Checker Code**"
      ],
      "metadata": {
        "id": "KtWcsDPC3lJd"
      }
    },
    {
      "cell_type": "code",
      "source": [
        "range_errors = {}\n",
        "for col, bounds in range_checks.items():\n",
        "    if dataset_netflix[col].dtype in ['int64', 'float64']:\n",
        "        out_of_range = dataset_netflix[(dataset_netflix[col] < bounds['min']) | (dataset_netflix[col] > bounds['max'])]\n",
        "        range_errors[col] = out_of_range"
      ],
      "metadata": {
        "id": "7fMQpXwS3pSj"
      },
      "execution_count": null,
      "outputs": []
    },
    {
      "cell_type": "markdown",
      "source": [
        "**Cell 4 : Report of Findings**"
      ],
      "metadata": {
        "id": "ug7-Wyak308N"
      }
    },
    {
      "cell_type": "code",
      "source": [
        "print(\"Range Errors Dictionary:\")\n",
        "print(range_errors)\n",
        "for col, errors in range_errors.items():\n",
        "    if not errors.empty:\n",
        "        print(f\"Range errors in column '{col}':\")\n",
        "        print(errors[['title', col]])\n",
        "        print()\n",
        "    else:\n",
        "        print(f\"No range errors in column '{col}'.\")\n",
        "\n"
      ],
      "metadata": {
        "colab": {
          "base_uri": "https://localhost:8080/"
        },
        "id": "NTGjFj8w372p",
        "outputId": "c29d8baa-1c6b-411b-cb35-3fa382396122"
      },
      "execution_count": null,
      "outputs": [
        {
          "output_type": "stream",
          "name": "stdout",
          "text": [
            "Range Errors Dictionary:\n",
            "{}\n"
          ]
        }
      ]
    },
    {
      "cell_type": "markdown",
      "source": [
        "# FORMAT ERRORS"
      ],
      "metadata": {
        "id": "q1sm1UTWk5Ag"
      }
    },
    {
      "cell_type": "markdown",
      "source": [
        "**Cell 1 : Test Name + Description**"
      ],
      "metadata": {
        "id": "sA-K9Ns_6NmO"
      }
    },
    {
      "cell_type": "code",
      "source": [
        " #Description\n",
        "print(\"\\nTest 3: Format Errors\")\n",
        "print(\"\\nFormat Check: Ensuring correct formatting of values.\")"
      ],
      "metadata": {
        "colab": {
          "base_uri": "https://localhost:8080/"
        },
        "id": "kwkoUbPZ6QxY",
        "outputId": "60f7b8dc-860a-4557-c768-fb8b63d50bf3"
      },
      "execution_count": null,
      "outputs": [
        {
          "output_type": "stream",
          "name": "stdout",
          "text": [
            "\n",
            "Test 3: Format Errors\n",
            "\n",
            "Format Check: Ensuring correct formatting of values.\n"
          ]
        }
      ]
    },
    {
      "cell_type": "markdown",
      "source": [
        "**Cell 2 : Parameters for the Checker**"
      ],
      "metadata": {
        "id": "BI2WXe7b6ORx"
      }
    },
    {
      "cell_type": "code",
      "source": [
        "format_rules = {\n",
        "    'date_added': r'\\d{2}/\\d{2}/\\d{4}'  # Example: MM/DD/YYYY\n",
        "}\n",
        "\n",
        "\n"
      ],
      "metadata": {
        "id": "AVfO0o3V6SBk"
      },
      "execution_count": null,
      "outputs": []
    },
    {
      "cell_type": "markdown",
      "source": [
        "**Cell 3 : Checker Code**"
      ],
      "metadata": {
        "id": "g2G8WXU_6O4B"
      }
    },
    {
      "cell_type": "code",
      "source": [
        "\n",
        "format_errors = {}\n",
        "for col, pattern in format_rules.items():\n",
        "    invalid_rows = dataset_netflix[~dataset_netflix[col].astype(str).str.match(pattern, na=False)]\n",
        "    format_errors[col] = invalid_rows"
      ],
      "metadata": {
        "id": "mAFVlrBq6S8H"
      },
      "execution_count": null,
      "outputs": []
    },
    {
      "cell_type": "markdown",
      "source": [
        "**Cell 4 : Report of Findings**"
      ],
      "metadata": {
        "id": "dweQjXmF6PbC"
      }
    },
    {
      "cell_type": "code",
      "source": [
        "for col, errors in format_errors.items():\n",
        "    print(f\"Column '{col}' has {len(errors)} format errors.\")\n",
        "    if not errors.empty:\n",
        "        print(errors)"
      ],
      "metadata": {
        "colab": {
          "base_uri": "https://localhost:8080/"
        },
        "id": "0VArIAyz6T-d",
        "outputId": "da2d336c-2ea4-4752-c3fd-7c4ad3191cec",
        "collapsed": true
      },
      "execution_count": null,
      "outputs": [
        {
          "output_type": "stream",
          "name": "stdout",
          "text": [
            "Column 'date_added' has 8806 format errors.\n",
            "     show_id     type                  title         director  \\\n",
            "0         s1    Movie   Dick Johnson Is Dead  Kirsten Johnson   \n",
            "1         s2  TV Show          Blood & Water              NaN   \n",
            "2         s3  TV Show              Ganglands  Julien Leclercq   \n",
            "3         s4  TV Show  Jailbirds New Orleans              NaN   \n",
            "4         s5  TV Show           Kota Factory              NaN   \n",
            "...      ...      ...                    ...              ...   \n",
            "8802   s8803    Movie                 Zodiac    David Fincher   \n",
            "8803   s8804  TV Show            Zombie Dumb              NaN   \n",
            "8804   s8805    Movie             Zombieland  Ruben Fleischer   \n",
            "8805   s8806    Movie                   Zoom     Peter Hewitt   \n",
            "8806   s8807    Movie                 Zubaan      Mozez Singh   \n",
            "\n",
            "                                                   cast        country  \\\n",
            "0                                                   NaN  United States   \n",
            "1     Ama Qamata, Khosi Ngema, Gail Mabalane, Thaban...   South Africa   \n",
            "2     Sami Bouajila, Tracy Gotoas, Samuel Jouy, Nabi...            NaN   \n",
            "3                                                   NaN            NaN   \n",
            "4     Mayur More, Jitendra Kumar, Ranjan Raj, Alam K...          India   \n",
            "...                                                 ...            ...   \n",
            "8802  Mark Ruffalo, Jake Gyllenhaal, Robert Downey J...  United States   \n",
            "8803                                                NaN            NaN   \n",
            "8804  Jesse Eisenberg, Woody Harrelson, Emma Stone, ...  United States   \n",
            "8805  Tim Allen, Courteney Cox, Chevy Chase, Kate Ma...  United States   \n",
            "8806  Vicky Kaushal, Sarah-Jane Dias, Raaghav Chanan...          India   \n",
            "\n",
            "              date_added release_year rating   duration  \\\n",
            "0     September 25, 2021      unknown  PG-13     90 min   \n",
            "1     September 24, 2021         2021  TV-MA  2 Seasons   \n",
            "2     September 24, 2021         2021  TV-MA   1 Season   \n",
            "3     September 24, 2021         2021  TV-MA   1 Season   \n",
            "4     September 24, 2021         2021  TV-MA  2 Seasons   \n",
            "...                  ...          ...    ...        ...   \n",
            "8802   November 20, 2019         2007      R    158 min   \n",
            "8803        July 1, 2019         2018  TV-Y7  2 Seasons   \n",
            "8804    November 1, 2019         2009      R     88 min   \n",
            "8805    January 11, 2020         2006     PG     88 min   \n",
            "8806       March 2, 2019         2015  TV-14    111 min   \n",
            "\n",
            "                                              listed_in  \\\n",
            "0                                         Documentaries   \n",
            "1       International TV Shows, TV Dramas, TV Mysteries   \n",
            "2     Crime TV Shows, International TV Shows, TV Act...   \n",
            "3                                Docuseries, Reality TV   \n",
            "4     International TV Shows, Romantic TV Shows, TV ...   \n",
            "...                                                 ...   \n",
            "8802                     Cult Movies, Dramas, Thrillers   \n",
            "8803             Kids' TV, Korean TV Shows, TV Comedies   \n",
            "8804                            Comedies, Horror Movies   \n",
            "8805                 Children & Family Movies, Comedies   \n",
            "8806     Dramas, International Movies, Music & Musicals   \n",
            "\n",
            "                                            description  title_length  \n",
            "0     As her father nears the end of his life, filmm...            20  \n",
            "1     After crossing paths at a party, a Cape Town t...            13  \n",
            "2     To protect his family from a powerful drug lor...             9  \n",
            "3     Feuds, flirtations and toilet talk go down amo...            21  \n",
            "4     In a city of coaching centers known to train I...            12  \n",
            "...                                                 ...           ...  \n",
            "8802  A political cartoonist, a crime reporter and a...             6  \n",
            "8803  While living alone in a spooky town, a young g...            11  \n",
            "8804  Looking to survive in a world taken over by zo...            10  \n",
            "8805  Dragged from civilian life, a former superhero...             4  \n",
            "8806  A scrappy but poor boy worms his way into a ty...             6  \n",
            "\n",
            "[8806 rows x 13 columns]\n"
          ]
        }
      ]
    },
    {
      "cell_type": "markdown",
      "source": [
        "# CONSISTENCY ERRORS"
      ],
      "metadata": {
        "id": "QSy_HaL7k_sD"
      }
    },
    {
      "cell_type": "markdown",
      "source": [
        "**Cell 1 : Test Name + Description**"
      ],
      "metadata": {
        "id": "aWnljl0Ifoa6"
      }
    },
    {
      "cell_type": "code",
      "source": [
        " #Description\n",
        "print(\"\\nTest 4: CONSISTENCY ERRORS\")\n",
        "print(\"\\nConsistency Check: Ensuring logical consistency across columns.\")\n"
      ],
      "metadata": {
        "colab": {
          "base_uri": "https://localhost:8080/"
        },
        "id": "F9xWkg4dfpTG",
        "outputId": "ad4f2770-99ef-408f-e4f1-3945d46ccfbc"
      },
      "execution_count": null,
      "outputs": [
        {
          "output_type": "stream",
          "name": "stdout",
          "text": [
            "\n",
            "Test 4: CONSISTENCY ERRORS\n",
            "\n",
            "Consistency Check: Ensuring logical consistency across columns.\n"
          ]
        }
      ]
    },
    {
      "cell_type": "markdown",
      "source": [
        "**Cell 2 : Parameters for the Checker**"
      ],
      "metadata": {
        "id": "o9Uo8UVyfqFr"
      }
    },
    {
      "cell_type": "code",
      "source": [
        "consistency_condition = (dataset_netflix['type'] == 'Movie') & (dataset_netflix['duration'].str.contains('Season', na=False))"
      ],
      "metadata": {
        "id": "pKGLzp-Gfqpl"
      },
      "execution_count": null,
      "outputs": []
    },
    {
      "cell_type": "markdown",
      "source": [
        "**Cell 3 : Checker Code**"
      ],
      "metadata": {
        "id": "b7mdxKELfrJy"
      }
    },
    {
      "cell_type": "code",
      "source": [
        "consistency_errors = dataset_netflix[consistency_condition]"
      ],
      "metadata": {
        "id": "naKTxUerfrzb"
      },
      "execution_count": null,
      "outputs": []
    },
    {
      "cell_type": "markdown",
      "source": [
        "**Cell 4 : Report of Findings**"
      ],
      "metadata": {
        "id": "SI8JFpykfsff"
      }
    },
    {
      "cell_type": "code",
      "source": [
        "print(f\"{len(consistency_errors)} inconsistencies found where 'Movie' has 'Seasons' in duration.\")\n",
        "if not consistency_errors.empty:\n",
        "    print(consistency_errors[['title', 'type', 'duration']])"
      ],
      "metadata": {
        "colab": {
          "base_uri": "https://localhost:8080/"
        },
        "id": "rcEo-dodfs_p",
        "outputId": "98c194ca-e1e2-4071-fa41-4e3ac31b77ad"
      },
      "execution_count": null,
      "outputs": [
        {
          "output_type": "stream",
          "name": "stdout",
          "text": [
            "0 inconsistencies found where 'Movie' has 'Seasons' in duration.\n"
          ]
        }
      ]
    },
    {
      "cell_type": "markdown",
      "source": [
        "# UNIQUENESS ERROS"
      ],
      "metadata": {
        "id": "XocOie-xlAff"
      }
    },
    {
      "cell_type": "markdown",
      "source": [
        "**Cell 1 : Test Name + Description**"
      ],
      "metadata": {
        "id": "1sxKvsughWsZ"
      }
    },
    {
      "cell_type": "code",
      "source": [
        "print(\"\\nTest 5: uniqueness errors\")\n",
        "print(\"\\nUniqueness Check: Identifying duplicate titles.\")"
      ],
      "metadata": {
        "colab": {
          "base_uri": "https://localhost:8080/"
        },
        "id": "tRjXXOJrhXJr",
        "outputId": "eac56894-ff30-4bcf-abf8-78df0aa5c214"
      },
      "execution_count": null,
      "outputs": [
        {
          "output_type": "stream",
          "name": "stdout",
          "text": [
            "\n",
            "Test 5: uniqueness errors\n",
            "\n",
            "Uniqueness Check: Identifying duplicate titles.\n"
          ]
        }
      ]
    },
    {
      "cell_type": "markdown",
      "source": [
        "**Cell 2 : Parameters for the Checker**"
      ],
      "metadata": {
        "id": "YjAueRLrhXrL"
      }
    },
    {
      "cell_type": "code",
      "source": [
        "# Specify the attribute that should have unique values:\n",
        "test_attribute = 'title'\n",
        "print(\"Parameter defined: 'title' should be unique.\")"
      ],
      "metadata": {
        "colab": {
          "base_uri": "https://localhost:8080/"
        },
        "id": "qxAYFj37hYE3",
        "outputId": "ee24e5ad-80ed-43a8-ba5e-103950104b92"
      },
      "execution_count": null,
      "outputs": [
        {
          "output_type": "stream",
          "name": "stdout",
          "text": [
            "Parameter defined: 'title' should be unique.\n"
          ]
        }
      ]
    },
    {
      "cell_type": "markdown",
      "source": [
        "**Cell 3 : Checker Code**"
      ],
      "metadata": {
        "id": "j0xmQ6KdhYh5"
      }
    },
    {
      "cell_type": "code",
      "source": [
        "unique_errors = dataset_netflix[dataset_netflix.duplicated(subset=[test_attribute], keep=False)]"
      ],
      "metadata": {
        "id": "1uhajFkYhY9c"
      },
      "execution_count": null,
      "outputs": []
    },
    {
      "cell_type": "markdown",
      "source": [
        "**Cell 4 : Report of Findings**"
      ],
      "metadata": {
        "id": "tNepzwlZhZZk"
      }
    },
    {
      "cell_type": "code",
      "source": [
        "print(f\"{len(unique_errors)} duplicate titles found.\")\n",
        "if not unique_errors.empty:\n",
        "    print(unique_errors[['title', 'type']])"
      ],
      "metadata": {
        "colab": {
          "base_uri": "https://localhost:8080/"
        },
        "id": "w2kgkX3qhaCd",
        "outputId": "ab0914ff-ec41-4861-eba1-56a0c6a8f76e"
      },
      "execution_count": null,
      "outputs": [
        {
          "output_type": "stream",
          "name": "stdout",
          "text": [
            "4 duplicate titles found.\n",
            "                   title     type\n",
            "5          Midnight Mass  TV Show\n",
            "41   The Big Bang Theory    Movie\n",
            "300  The Big Bang Theory    Movie\n",
            "5          Midnight Mass  TV Show\n"
          ]
        }
      ]
    },
    {
      "cell_type": "markdown",
      "source": [
        "# PRESENCE ERRORS"
      ],
      "metadata": {
        "id": "IfcV4SaJlBCO"
      }
    },
    {
      "cell_type": "markdown",
      "source": [
        "**Cell 1 : Test Name + Description**"
      ],
      "metadata": {
        "id": "4de1wg80jHWz"
      }
    },
    {
      "cell_type": "code",
      "source": [
        "print(\"Test 6: Presence Errors\")\n",
        "print(\"\\nPresence Check: Detecting missing values.\")"
      ],
      "metadata": {
        "colab": {
          "base_uri": "https://localhost:8080/"
        },
        "id": "sidxOLtTjH5D",
        "outputId": "acba5e89-068f-48e1-adf3-5d79fab26002"
      },
      "execution_count": null,
      "outputs": [
        {
          "output_type": "stream",
          "name": "stdout",
          "text": [
            "Test 6: Presence Errors\n",
            "\n",
            "Presence Check: Detecting missing values.\n"
          ]
        }
      ]
    },
    {
      "cell_type": "markdown",
      "source": [
        "**Cell 2 : Parameters for the Checker**"
      ],
      "metadata": {
        "id": "5groejxrjIUr"
      }
    },
    {
      "cell_type": "code",
      "source": [
        "print(\"We will check all columns for missing (null) values\")"
      ],
      "metadata": {
        "colab": {
          "base_uri": "https://localhost:8080/"
        },
        "id": "wHsbyPQ5jIxd",
        "outputId": "d4192ef3-1eac-4606-c36e-360e47bb3130"
      },
      "execution_count": null,
      "outputs": [
        {
          "output_type": "stream",
          "name": "stdout",
          "text": [
            "We will check all columns for missing (null) values\n"
          ]
        }
      ]
    },
    {
      "cell_type": "markdown",
      "source": [
        "**Cell 3 : Checker Code**"
      ],
      "metadata": {
        "id": "83GpPSqPjJb5"
      }
    },
    {
      "cell_type": "code",
      "source": [
        "missing_values = dataset_netflix.isnull().sum()"
      ],
      "metadata": {
        "id": "JfmfEKazjJ5o"
      },
      "execution_count": null,
      "outputs": []
    },
    {
      "cell_type": "markdown",
      "source": [
        "**Cell 4 : Report of Findings**"
      ],
      "metadata": {
        "id": "S4uWbdcOjKm6"
      }
    },
    {
      "cell_type": "code",
      "source": [
        "print(\"Columns with missing values:\")\n",
        "print(missing_values[missing_values > 0])"
      ],
      "metadata": {
        "colab": {
          "base_uri": "https://localhost:8080/"
        },
        "id": "CDPRX0JYjLEO",
        "outputId": "e35da5fd-32d7-4bae-9d56-e1824c00e75f"
      },
      "execution_count": null,
      "outputs": [
        {
          "output_type": "stream",
          "name": "stdout",
          "text": [
            "Columns with missing values:\n",
            "director      2634\n",
            "cast           826\n",
            "country        831\n",
            "date_added      10\n",
            "rating           4\n",
            "duration         3\n",
            "dtype: int64\n"
          ]
        }
      ]
    },
    {
      "cell_type": "markdown",
      "source": [
        "# LENGTH ERRORS"
      ],
      "metadata": {
        "id": "-9IaMTbflBj8"
      }
    },
    {
      "cell_type": "markdown",
      "source": [
        "**Cell 1 : Test Name + Description**"
      ],
      "metadata": {
        "id": "G_uLm2kLjMKM"
      }
    },
    {
      "cell_type": "code",
      "source": [
        "print(\"Test 7: Length Errors\")\n",
        "print(\"\\nLength Check: Ensuring appropriate title lengths.\")"
      ],
      "metadata": {
        "colab": {
          "base_uri": "https://localhost:8080/"
        },
        "id": "8VvL9jWljMkW",
        "outputId": "f58005a6-33a1-4228-d8fe-3d6499a9cbf2"
      },
      "execution_count": null,
      "outputs": [
        {
          "output_type": "stream",
          "name": "stdout",
          "text": [
            "Test 7: Length Errors\n",
            "\n",
            "Length Check: Ensuring appropriate title lengths.\n"
          ]
        }
      ]
    },
    {
      "cell_type": "markdown",
      "source": [
        "**Cell 2 : Parameters for the Checker**"
      ],
      "metadata": {
        "id": "kFc-vpjSjNAo"
      }
    },
    {
      "cell_type": "code",
      "source": [
        "test_attribute = 'title'\n",
        "min_length = 3\n"
      ],
      "metadata": {
        "id": "FxYcPY1LjNjr"
      },
      "execution_count": null,
      "outputs": []
    },
    {
      "cell_type": "markdown",
      "source": [
        "**Cell 3 : Checker Code**"
      ],
      "metadata": {
        "id": "7mmLcWvmjOCD"
      }
    },
    {
      "cell_type": "code",
      "source": [
        "dataset_netflix['title_length'] = dataset_netflix[test_attribute].str.len()\n",
        "short_titles = dataset_netflix[dataset_netflix['title_length'] < min_length]"
      ],
      "metadata": {
        "id": "7yQ4b8lcjOl4"
      },
      "execution_count": null,
      "outputs": []
    },
    {
      "cell_type": "markdown",
      "source": [
        "**Cell 4 : Report of Findings**"
      ],
      "metadata": {
        "id": "yxZU1FxSjPFF"
      }
    },
    {
      "cell_type": "code",
      "source": [
        "print(f\"{len(short_titles)} titles are too short.\")\n",
        "if not short_titles.empty:\n",
        "    print(short_titles[['title']])"
      ],
      "metadata": {
        "colab": {
          "base_uri": "https://localhost:8080/"
        },
        "id": "ZjI5Oi2ljPkY",
        "outputId": "1150a6e6-4b43-4a6e-97bf-6a7f5830e26f"
      },
      "execution_count": null,
      "outputs": [
        {
          "output_type": "stream",
          "name": "stdout",
          "text": [
            "13 titles are too short.\n",
            "     title\n",
            "50       A\n",
            "2069     H\n",
            "2127    3%\n",
            "3668    4L\n",
            "4090    Z4\n",
            "4177    IO\n",
            "4660    PK\n",
            "5388    46\n",
            "5958     9\n",
            "5959    21\n",
            "7155     K\n",
            "7687     P\n",
            "8765    XX\n"
          ]
        }
      ]
    },
    {
      "cell_type": "markdown",
      "source": [
        "# LOOK-UP ERRORS"
      ],
      "metadata": {
        "id": "Ok731M_7lCGy"
      }
    },
    {
      "cell_type": "markdown",
      "source": [
        "**Cell 1 : Test Name + Description**"
      ],
      "metadata": {
        "id": "lOIZRrKMjRXt"
      }
    },
    {
      "cell_type": "code",
      "source": [
        "print(\"Test 8: Look-up Errors\")\n",
        "print(\"\\nLook-up Check: Validating ratings against predefined categories.\")"
      ],
      "metadata": {
        "colab": {
          "base_uri": "https://localhost:8080/"
        },
        "id": "KSKAHRAajRzs",
        "outputId": "f62bdcce-5dcc-416a-a4df-bac1066d03aa"
      },
      "execution_count": null,
      "outputs": [
        {
          "output_type": "stream",
          "name": "stdout",
          "text": [
            "Test 8: Look-up Errors\n",
            "\n",
            "Look-up Check: Validating ratings against predefined categories.\n"
          ]
        }
      ]
    },
    {
      "cell_type": "markdown",
      "source": [
        "**Cell 2 : Parameters for the Checker**"
      ],
      "metadata": {
        "id": "F9-0IrFejSQj"
      }
    },
    {
      "cell_type": "code",
      "source": [
        "test_attribute = 'rating'\n",
        "valid_ratings = ['G', 'PG', 'PG-13', 'R', 'TV-MA', 'TV-14']"
      ],
      "metadata": {
        "id": "DY6YFscKjSpx"
      },
      "execution_count": null,
      "outputs": []
    },
    {
      "cell_type": "markdown",
      "source": [
        "**Cell 3 : Checker Code**"
      ],
      "metadata": {
        "id": "v0SOh4Q_jTIM"
      }
    },
    {
      "cell_type": "code",
      "source": [
        "lookup_errors = dataset_netflix[~dataset_netflix[test_attribute].isin(valid_ratings)]"
      ],
      "metadata": {
        "id": "0iX8xxjfjTus"
      },
      "execution_count": null,
      "outputs": []
    },
    {
      "cell_type": "markdown",
      "source": [
        "**Cell 4 : Report of Findings**"
      ],
      "metadata": {
        "id": "ghibRJ81jUNv"
      }
    },
    {
      "cell_type": "code",
      "source": [
        "print(f\"{len(lookup_errors)} invalid ratings found.\")\n",
        "if not lookup_errors.empty:\n",
        "    print(lookup_errors[['title', 'rating']])"
      ],
      "metadata": {
        "colab": {
          "base_uri": "https://localhost:8080/"
        },
        "id": "rFvZqZGjjUvP",
        "outputId": "b277e4ff-614b-4e25-e8dc-47e53cd04166"
      },
      "execution_count": null,
      "outputs": [
        {
          "output_type": "stream",
          "name": "stdout",
          "text": [
            "1823 invalid ratings found.\n",
            "                                             title rating\n",
            "13                Confessions of an Invisible Girl  TV-PG\n",
            "22                                 Avvai Shanmughi  TV-PG\n",
            "23    Go! Go! Cory Carson: Chrissy Takes the Wheel   TV-Y\n",
            "26                                  Minsara Kanavu  TV-PG\n",
            "34                         Tayo and Little Wizards  TV-Y7\n",
            "...                                            ...    ...\n",
            "8795                               Yu-Gi-Oh! Arc-V  TV-Y7\n",
            "8796                                    Yunus Emre  TV-PG\n",
            "8797                                     Zak Storm  TV-Y7\n",
            "8800                            Zindagi Gulzar Hai  TV-PG\n",
            "8803                                   Zombie Dumb  TV-Y7\n",
            "\n",
            "[1823 rows x 2 columns]\n"
          ]
        }
      ]
    },
    {
      "cell_type": "markdown",
      "source": [
        "# EXACT DUPLICATE ERRORS"
      ],
      "metadata": {
        "id": "oJuEQFC1lCyf"
      }
    },
    {
      "cell_type": "markdown",
      "source": [
        "**Cell 1 : Test Name + Description**"
      ],
      "metadata": {
        "id": "YaZrD6aOjWBg"
      }
    },
    {
      "cell_type": "code",
      "source": [
        "\n",
        "print(\"Test 9: Exact Duplicate Errors\")\n",
        "print(\"\\nExact Duplicate Check: Identifying identical rows.\")"
      ],
      "metadata": {
        "colab": {
          "base_uri": "https://localhost:8080/"
        },
        "id": "FKWrZDhBjWba",
        "outputId": "3a50a5a5-79f0-47dd-ba27-c8e7b80429a5"
      },
      "execution_count": null,
      "outputs": [
        {
          "output_type": "stream",
          "name": "stdout",
          "text": [
            "Test 9: Exact Duplicate Errors\n",
            "\n",
            "Exact Duplicate Check: Identifying identical rows.\n"
          ]
        }
      ]
    },
    {
      "cell_type": "markdown",
      "source": [
        "**Cell 2 : Parameters for the Checker**"
      ],
      "metadata": {
        "id": "PLb3UeYsjW4h"
      }
    },
    {
      "cell_type": "code",
      "source": [
        "print(\"we are checking for exact duplicates across all columns in the dataset. \")"
      ],
      "metadata": {
        "colab": {
          "base_uri": "https://localhost:8080/"
        },
        "id": "qWcZ9tPqjXTw",
        "outputId": "1c4b4727-1fa0-4ddd-f1b5-91512274c78f"
      },
      "execution_count": null,
      "outputs": [
        {
          "output_type": "stream",
          "name": "stdout",
          "text": [
            "we are checking for exact duplicates across all columns in the dataset. \n"
          ]
        }
      ]
    },
    {
      "cell_type": "markdown",
      "source": [
        "**Cell 3 : Checker Code**"
      ],
      "metadata": {
        "id": "5jPI_0JujX35"
      }
    },
    {
      "cell_type": "code",
      "source": [
        "exact_duplicates = dataset_netflix[dataset_netflix.duplicated()]"
      ],
      "metadata": {
        "id": "dtZbcmhyjYjq"
      },
      "execution_count": null,
      "outputs": []
    },
    {
      "cell_type": "markdown",
      "source": [
        "**Cell 4 : Report of Findings**"
      ],
      "metadata": {
        "id": "q3CmsHGXjZEW"
      }
    },
    {
      "cell_type": "code",
      "source": [
        "print(f\"{len(exact_duplicates)} exact duplicate rows found.\")\n",
        "if not exact_duplicates.empty:\n",
        "    print(exact_duplicates)"
      ],
      "metadata": {
        "colab": {
          "base_uri": "https://localhost:8080/"
        },
        "id": "9fxqV65UjZoS",
        "outputId": "87f4435e-8c6f-4b86-c5e1-532381e86203"
      },
      "execution_count": null,
      "outputs": [
        {
          "output_type": "stream",
          "name": "stdout",
          "text": [
            "1 exact duplicate rows found.\n",
            "  show_id     type          title       director  \\\n",
            "5      s6  TV Show  Midnight Mass  Mike Flanagan   \n",
            "\n",
            "                                                cast country  date_added  \\\n",
            "5  Kate Siegel, Zach Gilford, Hamish Linklater, H...     NaN  12/15/2021   \n",
            "\n",
            "  release_year rating  duration                           listed_in  \\\n",
            "5         2021  TV-MA  1 Season  TV Dramas, TV Horror, TV Mysteries   \n",
            "\n",
            "                                         description  title_length  \n",
            "5  The arrival of a charismatic young priest brin...            13  \n"
          ]
        }
      ]
    },
    {
      "cell_type": "markdown",
      "source": [
        "# NEAR DUPLICATE ERRORS"
      ],
      "metadata": {
        "id": "h_v6NWQslDSy"
      }
    },
    {
      "cell_type": "markdown",
      "source": [
        "**Cell 1 : Test Name + Description**"
      ],
      "metadata": {
        "id": "UcteqFCLjcXw"
      }
    },
    {
      "cell_type": "code",
      "source": [
        "print(\"Test 10: Near Duplicate Errors\")\n",
        "print(\"\\nNear Duplicate Check: Finding similar records.\")\n"
      ],
      "metadata": {
        "colab": {
          "base_uri": "https://localhost:8080/"
        },
        "id": "SKEViYUPjc2A",
        "outputId": "cda216da-5e1f-49f9-9af7-e10aed3ec1f2"
      },
      "execution_count": null,
      "outputs": [
        {
          "output_type": "stream",
          "name": "stdout",
          "text": [
            "Test 10: Near Duplicate Errors\n",
            "\n",
            "Near Duplicate Check: Finding similar records.\n"
          ]
        }
      ]
    },
    {
      "cell_type": "markdown",
      "source": [
        "**Cell 2 : Parameters for the Checker**"
      ],
      "metadata": {
        "id": "2kb4mYkajdSs"
      }
    },
    {
      "cell_type": "code",
      "source": [
        "similarity_threshold = 0.9"
      ],
      "metadata": {
        "id": "pav4A_WojdwN"
      },
      "execution_count": null,
      "outputs": []
    },
    {
      "cell_type": "markdown",
      "source": [
        "**Cell 3 : Checker Code**"
      ],
      "metadata": {
        "id": "375B8AN6jeSu"
      }
    },
    {
      "cell_type": "code",
      "source": [
        "def similar(a, b):\n",
        "    return SequenceMatcher(None, a, b).ratio()\n",
        "\n",
        "near_duplicates = []\n",
        "for i in range(len(dataset_netflix) - 1):\n",
        "    if similar(dataset_netflix.iloc[i]['title'], dataset_netflix.iloc[i + 1]['title']) > similarity_threshold:\n",
        "        near_duplicates.append((dataset_netflix.iloc[i], dataset_netflix.iloc[i + 1]))"
      ],
      "metadata": {
        "id": "4BTZvGDpjexp"
      },
      "execution_count": null,
      "outputs": []
    },
    {
      "cell_type": "markdown",
      "source": [
        "**Cell 4 : Report of Findings**"
      ],
      "metadata": {
        "id": "aLBMwoRMjfRe"
      }
    },
    {
      "cell_type": "code",
      "source": [
        "if near_duplicates:\n",
        "    for i, (record1, record2) in enumerate(near_duplicates):\n",
        "        print(f\"Near-Duplicate Pair {i + 1}:\")\n",
        "        print(f\"Title 1: {record1['title']}\")\n",
        "        print(f\"Title 2: {record2['title']}\")\n",
        "        print(\"---\")"
      ],
      "metadata": {
        "colab": {
          "base_uri": "https://localhost:8080/"
        },
        "id": "8TndQRiejfuv",
        "outputId": "fae23022-3cf0-4777-f977-596e24acddde"
      },
      "execution_count": null,
      "outputs": [
        {
          "output_type": "stream",
          "name": "stdout",
          "text": [
            "Near-Duplicate Pair 1:\n",
            "Title 1: The Big Bang Theory   \n",
            "Title 2: The Big Bang Theory\n",
            "---\n",
            "Near-Duplicate Pair 2:\n",
            "Title 1: House Party\n",
            "Title 2: House Party 2\n",
            "---\n",
            "Near-Duplicate Pair 3:\n",
            "Title 1: House Party 2\n",
            "Title 2: House Party 3\n",
            "---\n",
            "Near-Duplicate Pair 4:\n",
            "Title 1: Kyaa Kool Hai Hum\n",
            "Title 2: Kyaa Kool Hain Hum 3\n",
            "---\n",
            "Near-Duplicate Pair 5:\n",
            "Title 1: Ragini MMS\n",
            "Title 2: Ragini MMS 2\n",
            "---\n",
            "Near-Duplicate Pair 6:\n",
            "Title 1: The Big Bang Theory\n",
            "Title 2: The Big Bang Theory \n",
            "---\n",
            "Near-Duplicate Pair 7:\n",
            "Title 1: The Twilight Saga: Breaking Dawn: Part 1\n",
            "Title 2: The Twilight Saga: Breaking Dawn: Part 2\n",
            "---\n",
            "Near-Duplicate Pair 8:\n",
            "Title 1: Kung Fu Panda\n",
            "Title 2: Kung Fu Panda 2\n",
            "---\n",
            "Near-Duplicate Pair 9:\n",
            "Title 1: The Karate Kid Part II\n",
            "Title 2: The Karate Kid Part III\n",
            "---\n",
            "Near-Duplicate Pair 10:\n",
            "Title 1: Osuofia in London\n",
            "Title 2: Osuofia in London II\n",
            "---\n",
            "Near-Duplicate Pair 11:\n",
            "Title 1: Seven Souls in the Skull Castle: Season Moon Jogen\n",
            "Title 2: Seven Souls in the Skull Castle: Season Moon Kagen\n",
            "---\n",
            "Near-Duplicate Pair 12:\n",
            "Title 1: Seven Souls in the Skull Castle: Season Bird\n",
            "Title 2: Seven Souls in the Skull Castle: Season Flower\n",
            "---\n",
            "Near-Duplicate Pair 13:\n",
            "Title 1: The Conjuring\n",
            "Title 2: The Conjuring 2\n",
            "---\n",
            "Near-Duplicate Pair 14:\n",
            "Title 1: My Stupid Boss\n",
            "Title 2: My Stupid Boss 2\n",
            "---\n",
            "Near-Duplicate Pair 15:\n",
            "Title 1: ChuChuTV Bedtime Stories & Moral Stories for Kids (English)\n",
            "Title 2: ChuChuTV Bedtime Stories & Moral Stories for Kids (Hindi)\n",
            "---\n",
            "Near-Duplicate Pair 16:\n",
            "Title 1: ChuChuTV Surprise Eggs Learning Videos (English)\n",
            "Title 2: ChuChuTV Surprise Eggs Learning Videos (Hindi)\n",
            "---\n",
            "Near-Duplicate Pair 17:\n",
            "Title 1: Surga Yang Tak Dirindukan\n",
            "Title 2: Surga Yang Tak Dirindukan 2\n",
            "---\n",
            "Near-Duplicate Pair 18:\n",
            "Title 1: Don't Go Breaking My Heart\n",
            "Title 2: Don't Go Breaking My Heart 2\n",
            "---\n",
            "Near-Duplicate Pair 19:\n",
            "Title 1: After Porn Ends\n",
            "Title 2: After Porn Ends 3\n",
            "---\n",
            "Near-Duplicate Pair 20:\n",
            "Title 1: Casino Tycoon\n",
            "Title 2: Casino Tycoon 2\n",
            "---\n",
            "Near-Duplicate Pair 21:\n",
            "Title 1: Club Friday The Series 6\n",
            "Title 2: Club Friday The Series 7\n",
            "---\n",
            "Near-Duplicate Pair 22:\n",
            "Title 1: Club Friday The Series 7\n",
            "Title 2: Club Friday The Series 8\n",
            "---\n",
            "Near-Duplicate Pair 23:\n",
            "Title 1: Don't Crack Under Pressure\n",
            "Title 2: Don't Crack Under Pressure II\n",
            "---\n",
            "Near-Duplicate Pair 24:\n",
            "Title 1: Don't Crack Under Pressure II\n",
            "Title 2: Don't Crack Under Pressure III\n",
            "---\n",
            "Near-Duplicate Pair 25:\n",
            "Title 1: Eyyvah Eyyvah\n",
            "Title 2: Eyyvah Eyyvah 2\n",
            "---\n",
            "Near-Duplicate Pair 26:\n",
            "Title 1: Eyyvah Eyyvah 2\n",
            "Title 2: Eyyvah Eyyvah 3\n",
            "---\n",
            "Near-Duplicate Pair 27:\n",
            "Title 1: Final Destination\n",
            "Title 2: Final Destination 2\n",
            "---\n",
            "Near-Duplicate Pair 28:\n",
            "Title 1: Final Destination 2\n",
            "Title 2: Final Destination 3\n",
            "---\n",
            "Near-Duplicate Pair 29:\n",
            "Title 1: Hükümet Kadin\n",
            "Title 2: Hükümet Kadin 2\n",
            "---\n",
            "Near-Duplicate Pair 30:\n",
            "Title 1: Kill Bill: Vol. 1\n",
            "Title 2: Kill Bill: Vol. 2\n",
            "---\n",
            "Near-Duplicate Pair 31:\n",
            "Title 1: Maron\n",
            "Title 2: Maroon\n",
            "---\n",
            "Near-Duplicate Pair 32:\n",
            "Title 1: Master\n",
            "Title 2: Mater\n",
            "---\n",
            "Near-Duplicate Pair 33:\n",
            "Title 1: Nymphomaniac: Volume 1\n",
            "Title 2: Nymphomaniac: Volume II\n",
            "---\n",
            "Near-Duplicate Pair 34:\n",
            "Title 1: Oh My Ghost 2\n",
            "Title 2: Oh My Ghost 3\n",
            "---\n",
            "Near-Duplicate Pair 35:\n",
            "Title 1: Oh My Ghost 3\n",
            "Title 2: Oh My Ghost 4\n",
            "---\n",
            "Near-Duplicate Pair 36:\n",
            "Title 1: Rocky II\n",
            "Title 2: Rocky III\n",
            "---\n",
            "Near-Duplicate Pair 37:\n",
            "Title 1: Rocky IV\n",
            "Title 2: Rocky V\n",
            "---\n",
            "Near-Duplicate Pair 38:\n",
            "Title 1: Scary Movie\n",
            "Title 2: Scary Movie 5\n",
            "---\n",
            "Near-Duplicate Pair 39:\n",
            "Title 1: The Bachelor\n",
            "Title 2: The Bachelors\n",
            "---\n",
            "Near-Duplicate Pair 40:\n",
            "Title 1: The Story of God with Morgan Freeman\n",
            "Title 2: The Story of Us with Morgan Freeman\n",
            "---\n",
            "Near-Duplicate Pair 41:\n",
            "Title 1: Yes or No 2\n",
            "Title 2: Yes or No 2.5\n",
            "---\n"
          ]
        }
      ]
    },
    {
      "cell_type": "code",
      "source": [
        "# Save the altered dataset for validation\n",
        "dataset_netflix.to_csv('altered_netflix_data.csv', index=False)\n",
        "from google.colab import files\n",
        "files.download('altered_netflix_data.csv')\n"
      ],
      "metadata": {
        "colab": {
          "base_uri": "https://localhost:8080/",
          "height": 17
        },
        "id": "4xjV5nrGBwQN",
        "outputId": "fbc1fb5a-fa5b-4b0c-dd8e-58a3d2937447"
      },
      "execution_count": null,
      "outputs": [
        {
          "output_type": "display_data",
          "data": {
            "text/plain": [
              "<IPython.core.display.Javascript object>"
            ],
            "application/javascript": [
              "\n",
              "    async function download(id, filename, size) {\n",
              "      if (!google.colab.kernel.accessAllowed) {\n",
              "        return;\n",
              "      }\n",
              "      const div = document.createElement('div');\n",
              "      const label = document.createElement('label');\n",
              "      label.textContent = `Downloading \"${filename}\": `;\n",
              "      div.appendChild(label);\n",
              "      const progress = document.createElement('progress');\n",
              "      progress.max = size;\n",
              "      div.appendChild(progress);\n",
              "      document.body.appendChild(div);\n",
              "\n",
              "      const buffers = [];\n",
              "      let downloaded = 0;\n",
              "\n",
              "      const channel = await google.colab.kernel.comms.open(id);\n",
              "      // Send a message to notify the kernel that we're ready.\n",
              "      channel.send({})\n",
              "\n",
              "      for await (const message of channel.messages) {\n",
              "        // Send a message to notify the kernel that we're ready.\n",
              "        channel.send({})\n",
              "        if (message.buffers) {\n",
              "          for (const buffer of message.buffers) {\n",
              "            buffers.push(buffer);\n",
              "            downloaded += buffer.byteLength;\n",
              "            progress.value = downloaded;\n",
              "          }\n",
              "        }\n",
              "      }\n",
              "      const blob = new Blob(buffers, {type: 'application/binary'});\n",
              "      const a = document.createElement('a');\n",
              "      a.href = window.URL.createObjectURL(blob);\n",
              "      a.download = filename;\n",
              "      div.appendChild(a);\n",
              "      a.click();\n",
              "      div.remove();\n",
              "    }\n",
              "  "
            ]
          },
          "metadata": {}
        },
        {
          "output_type": "display_data",
          "data": {
            "text/plain": [
              "<IPython.core.display.Javascript object>"
            ],
            "application/javascript": [
              "download(\"download_6ac83217-9a51-4c55-87f4-b083f8d197ab\", \"altered_netflix_data.csv\", 3424520)"
            ]
          },
          "metadata": {}
        }
      ]
    },
    {
      "cell_type": "markdown",
      "source": [
        "# CONCLUSION"
      ],
      "metadata": {
        "id": "FpQ7INAalD3T"
      }
    },
    {
      "cell_type": "markdown",
      "source": [
        "The data cleaning process for the Netflix dataset highlighted several critical issues, including data type mismatches, range errors, formatting inconsistencies, missing values, and duplicate entries. These issues can compromise the accuracy and reliability of any analysis, leading to biased or incorrect insights. By addressing these errors, such as correcting data types, handling missing values, and removing duplicates, we ensure that the dataset is in optimal shape for further analysis. A clean dataset is essential for reliable decision-making and predictive modeling. This analysis demonstrates the importance of thorough data preparation to ensure that subsequent results are both accurate and actionable. Going forward, the modified dataset is ready for use in more accurate and meaningful analyses. Proper data cleaning not only improves model performance but also enhances the overall credibility of the data-driven insights."
      ],
      "metadata": {
        "id": "i_LI7V6Zphf6"
      }
    },
    {
      "cell_type": "markdown",
      "source": [
        "# REFERENCES\n",
        "\n",
        "- pandas documentation — pandas 2.2.3 documentation. (s. d.). https://pandas.pydata.org/pandas-docs/stable/\n",
        "\n",
        "\n",
        "- Icodewithben. (2024, 15 novembre). Data Validation in Python : Range, Type, Presence and Format Check. Medium.\n",
        "https://medium.com/@icodewithben/data-validation-in-python-range-type-presence-and-form-aaefe8835a86\n",
        "\n",
        "\n",
        "- GeeksforGeeks. (2024, 2 décembre). Working with Missing Data in Pandas. GeeksforGeeks. https://www.geeksforgeeks.org/working-with-missing-data-in-pandas/\n",
        "\n",
        "- How to validate numeric ranges in Python | LabEx. (s. d.). LabEx. https://labex.io/tutorials/python-how-to-validate-numeric-ranges-in-python-422109\n",
        "\n"
      ],
      "metadata": {
        "id": "_qBTLJd9RpV5"
      }
    }
  ]
}